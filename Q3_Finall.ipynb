{
  "cells": [
    {
      "cell_type": "code",
      "execution_count": null,
      "id": "8f344545",
      "metadata": {
        "colab": {
          "base_uri": "https://localhost:8080/"
        },
        "id": "8f344545",
        "outputId": "19c72d55-e660-4441-e918-5455088b72c9"
      },
      "outputs": [
        {
          "name": "stdout",
          "output_type": "stream",
          "text": [
            "Looking in indexes: https://pypi.org/simple, https://pypi.ngc.nvidia.com\n",
            "Requirement already satisfied: transformers in e:\\python310\\lib\\site-packages (4.24.0)\n",
            "Requirement already satisfied: tokenizers!=0.11.3,<0.14,>=0.11.1 in e:\\python310\\lib\\site-packages (from transformers) (0.13.1)\n",
            "Requirement already satisfied: pyyaml>=5.1 in e:\\python310\\lib\\site-packages (from transformers) (6.0)\n",
            "Requirement already satisfied: huggingface-hub<1.0,>=0.10.0 in e:\\python310\\lib\\site-packages (from transformers) (0.12.0)\n",
            "Requirement already satisfied: filelock in e:\\python310\\lib\\site-packages (from transformers) (3.7.1)\n",
            "Requirement already satisfied: regex!=2019.12.17 in e:\\python310\\lib\\site-packages (from transformers) (2022.7.9)\n",
            "Requirement already satisfied: packaging>=20.0 in e:\\python310\\lib\\site-packages (from transformers) (21.3)\n",
            "Requirement already satisfied: requests in e:\\python310\\lib\\site-packages (from transformers) (2.28.1)\n",
            "Requirement already satisfied: numpy>=1.17 in e:\\python310\\lib\\site-packages (from transformers) (1.23.1)\n",
            "Requirement already satisfied: tqdm>=4.27 in e:\\python310\\lib\\site-packages (from transformers) (4.64.0)\n",
            "Requirement already satisfied: typing-extensions>=3.7.4.3 in e:\\python310\\lib\\site-packages (from huggingface-hub<1.0,>=0.10.0->transformers) (4.3.0)\n",
            "Requirement already satisfied: pyparsing!=3.0.5,>=2.0.2 in e:\\python310\\lib\\site-packages (from packaging>=20.0->transformers) (3.0.9)\n",
            "Requirement already satisfied: colorama in e:\\python310\\lib\\site-packages (from tqdm>=4.27->transformers) (0.4.5)\n",
            "Requirement already satisfied: urllib3<1.27,>=1.21.1 in e:\\python310\\lib\\site-packages (from requests->transformers) (1.26.12)\n",
            "Requirement already satisfied: charset-normalizer<3,>=2 in e:\\python310\\lib\\site-packages (from requests->transformers) (2.1.0)\n",
            "Requirement already satisfied: certifi>=2017.4.17 in e:\\python310\\lib\\site-packages (from requests->transformers) (2022.6.15)\n",
            "Requirement already satisfied: idna<4,>=2.5 in e:\\python310\\lib\\site-packages (from requests->transformers) (3.3)\n"
          ]
        },
        {
          "name": "stderr",
          "output_type": "stream",
          "text": [
            "WARNING: Ignoring invalid distribution -p (e:\\python310\\lib\\site-packages)\n",
            "WARNING: Ignoring invalid distribution -2p (e:\\python310\\lib\\site-packages)\n",
            "WARNING: Ignoring invalid distribution -1p (e:\\python310\\lib\\site-packages)\n",
            "WARNING: Ignoring invalid distribution -p (e:\\python310\\lib\\site-packages)\n",
            "WARNING: Ignoring invalid distribution -0p (e:\\python310\\lib\\site-packages)\n",
            "WARNING: Ignoring invalid distribution -latbuffers (e:\\python310\\lib\\site-packages)\n",
            "WARNING: Ignoring invalid distribution -ip (e:\\python310\\lib\\site-packages)\n",
            "WARNING: Ignoring invalid distribution - (e:\\python310\\lib\\site-packages)\n",
            "WARNING: Ignoring invalid distribution -ensorflow-estimator (e:\\python310\\lib\\site-packages)\n",
            "WARNING: Ignoring invalid distribution -p (e:\\python310\\lib\\site-packages)\n",
            "WARNING: Ignoring invalid distribution -2p (e:\\python310\\lib\\site-packages)\n",
            "WARNING: Ignoring invalid distribution -1p (e:\\python310\\lib\\site-packages)\n",
            "WARNING: Ignoring invalid distribution -p (e:\\python310\\lib\\site-packages)\n",
            "WARNING: Ignoring invalid distribution -0p (e:\\python310\\lib\\site-packages)\n",
            "WARNING: Ignoring invalid distribution -latbuffers (e:\\python310\\lib\\site-packages)\n",
            "WARNING: Ignoring invalid distribution -ip (e:\\python310\\lib\\site-packages)\n",
            "WARNING: Ignoring invalid distribution - (e:\\python310\\lib\\site-packages)\n",
            "WARNING: Ignoring invalid distribution -ensorflow-estimator (e:\\python310\\lib\\site-packages)\n",
            "WARNING: Ignoring invalid distribution -p (e:\\python310\\lib\\site-packages)\n",
            "WARNING: Ignoring invalid distribution -2p (e:\\python310\\lib\\site-packages)\n",
            "WARNING: Ignoring invalid distribution -1p (e:\\python310\\lib\\site-packages)\n",
            "WARNING: Ignoring invalid distribution -p (e:\\python310\\lib\\site-packages)\n",
            "WARNING: Ignoring invalid distribution -0p (e:\\python310\\lib\\site-packages)\n",
            "WARNING: Ignoring invalid distribution -latbuffers (e:\\python310\\lib\\site-packages)\n",
            "WARNING: Ignoring invalid distribution -ip (e:\\python310\\lib\\site-packages)\n",
            "WARNING: Ignoring invalid distribution - (e:\\python310\\lib\\site-packages)\n",
            "WARNING: Ignoring invalid distribution -ensorflow-estimator (e:\\python310\\lib\\site-packages)\n",
            "WARNING: Ignoring invalid distribution -p (e:\\python310\\lib\\site-packages)\n",
            "WARNING: Ignoring invalid distribution -2p (e:\\python310\\lib\\site-packages)\n",
            "WARNING: Ignoring invalid distribution -1p (e:\\python310\\lib\\site-packages)\n",
            "WARNING: Ignoring invalid distribution -p (e:\\python310\\lib\\site-packages)\n",
            "WARNING: Ignoring invalid distribution -0p (e:\\python310\\lib\\site-packages)\n",
            "WARNING: Ignoring invalid distribution -latbuffers (e:\\python310\\lib\\site-packages)\n",
            "WARNING: Ignoring invalid distribution -ip (e:\\python310\\lib\\site-packages)\n",
            "WARNING: Ignoring invalid distribution - (e:\\python310\\lib\\site-packages)\n",
            "WARNING: Ignoring invalid distribution -ensorflow-estimator (e:\\python310\\lib\\site-packages)\n",
            "WARNING: Ignoring invalid distribution -p (e:\\python310\\lib\\site-packages)\n",
            "WARNING: Ignoring invalid distribution -2p (e:\\python310\\lib\\site-packages)\n",
            "WARNING: Ignoring invalid distribution -1p (e:\\python310\\lib\\site-packages)\n",
            "WARNING: Ignoring invalid distribution -p (e:\\python310\\lib\\site-packages)\n",
            "WARNING: Ignoring invalid distribution -0p (e:\\python310\\lib\\site-packages)\n",
            "WARNING: Ignoring invalid distribution -latbuffers (e:\\python310\\lib\\site-packages)\n",
            "WARNING: Ignoring invalid distribution -ip (e:\\python310\\lib\\site-packages)\n",
            "WARNING: Ignoring invalid distribution - (e:\\python310\\lib\\site-packages)\n",
            "WARNING: Ignoring invalid distribution -ensorflow-estimator (e:\\python310\\lib\\site-packages)\n",
            "WARNING: Ignoring invalid distribution -p (e:\\python310\\lib\\site-packages)\n",
            "WARNING: Ignoring invalid distribution -2p (e:\\python310\\lib\\site-packages)\n",
            "WARNING: Ignoring invalid distribution -1p (e:\\python310\\lib\\site-packages)\n",
            "WARNING: Ignoring invalid distribution -p (e:\\python310\\lib\\site-packages)\n",
            "WARNING: Ignoring invalid distribution -0p (e:\\python310\\lib\\site-packages)\n",
            "WARNING: Ignoring invalid distribution -latbuffers (e:\\python310\\lib\\site-packages)\n",
            "WARNING: Ignoring invalid distribution -ip (e:\\python310\\lib\\site-packages)\n",
            "WARNING: Ignoring invalid distribution - (e:\\python310\\lib\\site-packages)\n",
            "WARNING: Ignoring invalid distribution -ensorflow-estimator (e:\\python310\\lib\\site-packages)\n",
            "\n",
            "[notice] A new release of pip available: 22.3 -> 23.0\n",
            "[notice] To update, run: python.exe -m pip install --upgrade pip\n",
            "WARNING: Ignoring invalid distribution -p (e:\\python310\\lib\\site-packages)\n",
            "WARNING: Ignoring invalid distribution -2p (e:\\python310\\lib\\site-packages)\n",
            "WARNING: Ignoring invalid distribution -1p (e:\\python310\\lib\\site-packages)\n",
            "WARNING: Ignoring invalid distribution -p (e:\\python310\\lib\\site-packages)\n",
            "WARNING: Ignoring invalid distribution -0p (e:\\python310\\lib\\site-packages)\n",
            "WARNING: Ignoring invalid distribution -latbuffers (e:\\python310\\lib\\site-packages)\n",
            "WARNING: Ignoring invalid distribution -ip (e:\\python310\\lib\\site-packages)\n",
            "WARNING: Ignoring invalid distribution - (e:\\python310\\lib\\site-packages)\n",
            "WARNING: Ignoring invalid distribution -ensorflow-estimator (e:\\python310\\lib\\site-packages)\n",
            "WARNING: Ignoring invalid distribution -p (e:\\python310\\lib\\site-packages)\n",
            "WARNING: Ignoring invalid distribution -2p (e:\\python310\\lib\\site-packages)\n",
            "WARNING: Ignoring invalid distribution -1p (e:\\python310\\lib\\site-packages)\n",
            "WARNING: Ignoring invalid distribution -p (e:\\python310\\lib\\site-packages)\n",
            "WARNING: Ignoring invalid distribution -0p (e:\\python310\\lib\\site-packages)\n",
            "WARNING: Ignoring invalid distribution -latbuffers (e:\\python310\\lib\\site-packages)\n",
            "WARNING: Ignoring invalid distribution -ip (e:\\python310\\lib\\site-packages)\n",
            "WARNING: Ignoring invalid distribution - (e:\\python310\\lib\\site-packages)\n",
            "WARNING: Ignoring invalid distribution -ensorflow-estimator (e:\\python310\\lib\\site-packages)\n",
            "WARNING: Ignoring invalid distribution -p (e:\\python310\\lib\\site-packages)\n",
            "WARNING: Ignoring invalid distribution -2p (e:\\python310\\lib\\site-packages)\n",
            "WARNING: Ignoring invalid distribution -1p (e:\\python310\\lib\\site-packages)\n",
            "WARNING: Ignoring invalid distribution -p (e:\\python310\\lib\\site-packages)\n",
            "WARNING: Ignoring invalid distribution -0p (e:\\python310\\lib\\site-packages)\n",
            "WARNING: Ignoring invalid distribution -latbuffers (e:\\python310\\lib\\site-packages)\n",
            "WARNING: Ignoring invalid distribution -ip (e:\\python310\\lib\\site-packages)\n",
            "WARNING: Ignoring invalid distribution - (e:\\python310\\lib\\site-packages)\n",
            "WARNING: Ignoring invalid distribution -ensorflow-estimator (e:\\python310\\lib\\site-packages)\n",
            "WARNING: Ignoring invalid distribution -p (e:\\python310\\lib\\site-packages)\n",
            "WARNING: Ignoring invalid distribution -2p (e:\\python310\\lib\\site-packages)\n",
            "WARNING: Ignoring invalid distribution -1p (e:\\python310\\lib\\site-packages)\n",
            "WARNING: Ignoring invalid distribution -p (e:\\python310\\lib\\site-packages)\n",
            "WARNING: Ignoring invalid distribution -0p (e:\\python310\\lib\\site-packages)\n",
            "WARNING: Ignoring invalid distribution -latbuffers (e:\\python310\\lib\\site-packages)\n",
            "WARNING: Ignoring invalid distribution -ip (e:\\python310\\lib\\site-packages)\n",
            "WARNING: Ignoring invalid distribution - (e:\\python310\\lib\\site-packages)\n",
            "WARNING: Ignoring invalid distribution -ensorflow-estimator (e:\\python310\\lib\\site-packages)\n",
            "WARNING: Ignoring invalid distribution -p (e:\\python310\\lib\\site-packages)\n",
            "WARNING: Ignoring invalid distribution -2p (e:\\python310\\lib\\site-packages)\n",
            "WARNING: Ignoring invalid distribution -1p (e:\\python310\\lib\\site-packages)\n",
            "WARNING: Ignoring invalid distribution -p (e:\\python310\\lib\\site-packages)\n",
            "WARNING: Ignoring invalid distribution -0p (e:\\python310\\lib\\site-packages)\n",
            "WARNING: Ignoring invalid distribution -latbuffers (e:\\python310\\lib\\site-packages)\n",
            "WARNING: Ignoring invalid distribution -ip (e:\\python310\\lib\\site-packages)\n",
            "WARNING: Ignoring invalid distribution - (e:\\python310\\lib\\site-packages)\n",
            "WARNING: Ignoring invalid distribution -ensorflow-estimator (e:\\python310\\lib\\site-packages)\n",
            "WARNING: Ignoring invalid distribution -p (e:\\python310\\lib\\site-packages)\n",
            "WARNING: Ignoring invalid distribution -2p (e:\\python310\\lib\\site-packages)\n",
            "WARNING: Ignoring invalid distribution -1p (e:\\python310\\lib\\site-packages)\n",
            "WARNING: Ignoring invalid distribution -p (e:\\python310\\lib\\site-packages)\n",
            "WARNING: Ignoring invalid distribution -0p (e:\\python310\\lib\\site-packages)\n",
            "WARNING: Ignoring invalid distribution -latbuffers (e:\\python310\\lib\\site-packages)\n",
            "WARNING: Ignoring invalid distribution -ip (e:\\python310\\lib\\site-packages)\n",
            "WARNING: Ignoring invalid distribution - (e:\\python310\\lib\\site-packages)\n",
            "WARNING: Ignoring invalid distribution -ensorflow-estimator (e:\\python310\\lib\\site-packages)\n",
            "\n",
            "[notice] A new release of pip available: 22.3 -> 23.0\n",
            "[notice] To update, run: python.exe -m pip install --upgrade pip\n"
          ]
        }
      ],
      "source": [
        "!pip install transformers\n",
        "!pip install -q hazm"
      ]
    },
    {
      "cell_type": "code",
      "execution_count": null,
      "id": "a76b2789",
      "metadata": {
        "id": "a76b2789"
      },
      "outputs": [],
      "source": [
        "import numpy as np\n",
        "import pandas as pd\n",
        "import random\n",
        "import matplotlib.pyplot as plt\n",
        "from tqdm import tqdm\n",
        "from sklearn.metrics import classification_report, confusion_matrix, accuracy_score, f1_score\n",
        "%matplotlib inline\n",
        "from transformers import BertTokenizer\n",
        "from transformers import BertModel\n",
        "import torch\n",
        "from torch import nn\n",
        "import torch.nn.functional as F\n",
        "from torch.optim import Adam, SGD\n",
        "\n",
        "import hazm\n",
        "from sklearn.preprocessing import LabelEncoder\n",
        "import os\n",
        "import pandas as pd\n",
        "import random\n",
        "device = \"cuda\" if torch.cuda.is_available() else \"cpu\"\n"
      ]
    },
    {
      "cell_type": "code",
      "execution_count": null,
      "id": "b747829e",
      "metadata": {
        "colab": {
          "base_uri": "https://localhost:8080/"
        },
        "id": "b747829e",
        "outputId": "7115bbe4-6861-4206-e26a-9d053196b4de"
      },
      "outputs": [
        {
          "name": "stderr",
          "output_type": "stream",
          "text": [
            "Some weights of the model checkpoint at HooshvareLab/bert-fa-base-uncased were not used when initializing BertModel: ['cls.predictions.transform.LayerNorm.bias', 'cls.predictions.decoder.bias', 'cls.predictions.bias', 'cls.seq_relationship.bias', 'cls.predictions.decoder.weight', 'cls.predictions.transform.LayerNorm.weight', 'cls.predictions.transform.dense.weight', 'cls.predictions.transform.dense.bias', 'cls.seq_relationship.weight']\n",
            "- This IS expected if you are initializing BertModel from the checkpoint of a model trained on another task or with another architecture (e.g. initializing a BertForSequenceClassification model from a BertForPreTraining model).\n",
            "- This IS NOT expected if you are initializing BertModel from the checkpoint of a model that you expect to be exactly identical (initializing a BertForSequenceClassification model from a BertForSequenceClassification model).\n"
          ]
        }
      ],
      "source": [
        "### NEEDED FUNCTION AND CLASSES ###\n",
        "\n",
        "def generate_dataframe(folder_path):\n",
        "    files = os.listdir(folder_path)\n",
        "    poem_files = [f for f in files if f.endswith('.txt')]\n",
        "    selected_poems = random.sample(poem_files, 10)\n",
        "\n",
        "    data = pd.DataFrame(columns=['beyt', 'poet'])\n",
        "\n",
        "    for poem_file in selected_poems:\n",
        "        df = pd.read_csv(os.path.join(folder_path, poem_file), header=None)\n",
        "        poet = poem_file.split(\".\")[0]\n",
        "        lst = [''] * int(len(df) / 2)\n",
        "        df_beyt = pd.DataFrame(lst, columns=['beyt'])\n",
        "        for i in range(int(len(df) / 2)):\n",
        "            df_beyt.iloc[i] = df.iloc[2 * i] + ' [SEP] ' + df.iloc[2 * i + 1]\n",
        "        df_beyt['poet'] = poet\n",
        "        data = pd.concat([data, df_beyt], ignore_index=True, sort=False)\n",
        "        # Create a LabelEncoder object\n",
        "        le = LabelEncoder()\n",
        "\n",
        "          # Fit the LabelEncoder object to the target column\n",
        "        le.fit(data['poet'])\n",
        "\n",
        "        # Transform the target column to numerical values\n",
        "        data['poet_encoded'] = le.transform(data['poet'])\n",
        "    return data.sample(frac=1).reset_index(drop=True)\n",
        "\n",
        "class PersianPoemsDataset(torch.utils.data.Dataset):\n",
        "    \"\"\" Create a PyTorch dataset for Persian poems corpus. \"\"\"\n",
        "    def __init__(self, df):\n",
        "        poets = data.poet.unique()\n",
        "        poet_encoded = [data[data.poet == poet].poet_encoded.values[0] for poet in poets]\n",
        "        poet_dict = dict(zip(poets, poet_encoded))\n",
        "        self.labels = [poet_dict[label] for label in df['poet']]\n",
        "        self.texts = [tokenizer(text, padding='max_length', max_length = 35, truncation=True,return_tensors=\"pt\") for text in df['beyt']]\n",
        "    def classes(self):\n",
        "        return self.labels\n",
        "    def __len__(self):\n",
        "        return len(self.labels)\n",
        "    def __getitem__(self, idx):\n",
        "        return self.texts[idx], np.array(self.labels[idx])\n",
        "ParsBERT = BertModel.from_pretrained('HooshvareLab/bert-fa-base-uncased')\n",
        "class PoemClassifier(nn.Module):\n",
        "    def __init__(self,is_freeze=True):\n",
        "        super(PoemClassifier, self).__init__()\n",
        "        self.bert = ParsBERT\n",
        "        if is_freeze:\n",
        "          for param in self.bert.parameters():\n",
        "            param.requires_grad = False\n",
        "        self.fc = nn.Linear(768, 10)\n",
        "    def forward(self, input_ids, attention_mask): \n",
        "        return self.fc(self.bert(input_ids=input_ids, attention_mask=attention_mask, return_dict=False)[1])\n",
        "\n",
        "def report_model(model,dataloader,name=''): #confusion matrix , ... \n",
        "    y_true = []\n",
        "    y_pred = []\n",
        "    for i, (inputs, labels) in enumerate(dataloader):\n",
        "        inputs = inputs.to(device)\n",
        "        labels = labels.to(device)\n",
        "        outputs = model(input_ids=inputs['input_ids'].squeeze(1).to(device), attention_mask=inputs['attention_mask'].to(device))\n",
        "        y_true.extend(labels.tolist())\n",
        "        y_pred.extend(outputs.argmax(1).tolist())\n",
        "    print(f'~~~~~~~~~~~~ {name} ~~~~~~~~~~~~ \\n')\n",
        "    print(classification_report(y_true, y_pred, target_names=poets))\n",
        "    print(f'confusion matrix : \\n {confusion_matrix(y_true, y_pred)}')\n",
        "    print(f'f1_score : {f1_score(y_true, y_pred, average=\"macro\")}')\n",
        "\n",
        "### perplexity Compartion ##\n",
        "def perplexity(model1, model2, test_dataloader,criterion):\n",
        "    use_cuda = torch.cuda.is_available()\n",
        "    device = torch.device(\"cuda\" if use_cuda else \"cpu\")\n",
        "    if use_cuda:\n",
        "        model1 = model1.cuda()\n",
        "        model2 = model2.cuda()\n",
        "    total_loss_model1 = 0\n",
        "    total_loss_model2 = 0\n",
        "    with torch.no_grad():\n",
        "        for test_input, test_label in test_dataloader:\n",
        "            test_label = test_label.to(device)\n",
        "            mask = test_input['attention_mask'].to(device)\n",
        "            input_id = test_input['input_ids'].squeeze(1).to(device)\n",
        "            output1 = model1(input_id, mask)\n",
        "            output2 = model2(input_id, mask)\n",
        "            batch_loss1 = criterion(output1, test_label.long())\n",
        "            batch_loss2 = criterion(output2, test_label.long())\n",
        "            total_loss_model1 += batch_loss1.item()\n",
        "            total_loss_model2 += batch_loss2.item()\n",
        "    perplexity_model1 = np.exp(total_loss_model1 / len(test_dataloader))\n",
        "    perplexity_model2 = np.exp(total_loss_model2 / len(test_dataloader))\n",
        "    return perplexity_model1, perplexity_model2\n"
      ]
    },
    {
      "cell_type": "code",
      "execution_count": null,
      "id": "rKtJGBjlN-z0",
      "metadata": {
        "colab": {
          "base_uri": "https://localhost:8080/",
          "height": 424
        },
        "id": "rKtJGBjlN-z0",
        "outputId": "a7f967aa-b892-4976-ddda-c1d42a31d531"
      },
      "outputs": [
        {
          "data": {
            "text/html": [
              "<div>\n",
              "<style scoped>\n",
              "    .dataframe tbody tr th:only-of-type {\n",
              "        vertical-align: middle;\n",
              "    }\n",
              "\n",
              "    .dataframe tbody tr th {\n",
              "        vertical-align: top;\n",
              "    }\n",
              "\n",
              "    .dataframe thead th {\n",
              "        text-align: right;\n",
              "    }\n",
              "</style>\n",
              "<table border=\"1\" class=\"dataframe\">\n",
              "  <thead>\n",
              "    <tr style=\"text-align: right;\">\n",
              "      <th></th>\n",
              "      <th>beyt</th>\n",
              "      <th>poet</th>\n",
              "      <th>poet_encoded</th>\n",
              "    </tr>\n",
              "  </thead>\n",
              "  <tbody>\n",
              "    <tr>\n",
              "      <th>0</th>\n",
              "      <td>خور تیغ زن گرچه هرشب زباست [SEP] درین خاک توده...</td>\n",
              "      <td>kamal_norm</td>\n",
              "      <td>7</td>\n",
              "    </tr>\n",
              "    <tr>\n",
              "      <th>1</th>\n",
              "      <td>نرگسان رغم مه و پروین را [SEP] شکلی از ماه و پ...</td>\n",
              "      <td>kamal_norm</td>\n",
              "      <td>7</td>\n",
              "    </tr>\n",
              "    <tr>\n",
              "      <th>2</th>\n",
              "      <td>سپاهی ز جنگ آوران صدهزار [SEP] نهاده همه سر سو...</td>\n",
              "      <td>ferdousi_norm</td>\n",
              "      <td>2</td>\n",
              "    </tr>\n",
              "    <tr>\n",
              "      <th>3</th>\n",
              "      <td>روان مرا پور سامست جفت [SEP] چرا آشکارا بباید ...</td>\n",
              "      <td>ferdousi_norm</td>\n",
              "      <td>2</td>\n",
              "    </tr>\n",
              "    <tr>\n",
              "      <th>4</th>\n",
              "      <td>سحر کآید از سر کلکت بود سحر حلال [SEP] بیت کان...</td>\n",
              "      <td>kamal_norm</td>\n",
              "      <td>7</td>\n",
              "    </tr>\n",
              "    <tr>\n",
              "      <th>...</th>\n",
              "      <td>...</td>\n",
              "      <td>...</td>\n",
              "      <td>...</td>\n",
              "    </tr>\n",
              "    <tr>\n",
              "      <th>199331</th>\n",
              "      <td>ور بود در فقر جان یک ذره چیز [SEP] حال کادالفق...</td>\n",
              "      <td>attar_norm</td>\n",
              "      <td>0</td>\n",
              "    </tr>\n",
              "    <tr>\n",
              "      <th>199332</th>\n",
              "      <td>دامن صحبت کشید از چنگ اهل دل فسوس [SEP] ظل رحم...</td>\n",
              "      <td>hatef_norm</td>\n",
              "      <td>5</td>\n",
              "    </tr>\n",
              "    <tr>\n",
              "      <th>199333</th>\n",
              "      <td>گر چه غمگین شدم ز واقعه اش [SEP] گشتم الحق ازی...</td>\n",
              "      <td>kamal_norm</td>\n",
              "      <td>7</td>\n",
              "    </tr>\n",
              "    <tr>\n",
              "      <th>199334</th>\n",
              "      <td>نماند از سیل اشک من زمین را یک بنا محکم [SEP] ...</td>\n",
              "      <td>helali_norm</td>\n",
              "      <td>6</td>\n",
              "    </tr>\n",
              "    <tr>\n",
              "      <th>199335</th>\n",
              "      <td>آصف جمشید رتبت خواجه سلطان نشان [SEP] صاحب اعظ...</td>\n",
              "      <td>kamal_norm</td>\n",
              "      <td>7</td>\n",
              "    </tr>\n",
              "  </tbody>\n",
              "</table>\n",
              "<p>199336 rows × 3 columns</p>\n",
              "</div>"
            ],
            "text/plain": [
              "                                                     beyt           poet  \\\n",
              "0       خور تیغ زن گرچه هرشب زباست [SEP] درین خاک توده...     kamal_norm   \n",
              "1       نرگسان رغم مه و پروین را [SEP] شکلی از ماه و پ...     kamal_norm   \n",
              "2       سپاهی ز جنگ آوران صدهزار [SEP] نهاده همه سر سو...  ferdousi_norm   \n",
              "3       روان مرا پور سامست جفت [SEP] چرا آشکارا بباید ...  ferdousi_norm   \n",
              "4       سحر کآید از سر کلکت بود سحر حلال [SEP] بیت کان...     kamal_norm   \n",
              "...                                                   ...            ...   \n",
              "199331  ور بود در فقر جان یک ذره چیز [SEP] حال کادالفق...     attar_norm   \n",
              "199332  دامن صحبت کشید از چنگ اهل دل فسوس [SEP] ظل رحم...     hatef_norm   \n",
              "199333  گر چه غمگین شدم ز واقعه اش [SEP] گشتم الحق ازی...     kamal_norm   \n",
              "199334  نماند از سیل اشک من زمین را یک بنا محکم [SEP] ...    helali_norm   \n",
              "199335  آصف جمشید رتبت خواجه سلطان نشان [SEP] صاحب اعظ...     kamal_norm   \n",
              "\n",
              "        poet_encoded  \n",
              "0                  7  \n",
              "1                  7  \n",
              "2                  2  \n",
              "3                  2  \n",
              "4                  7  \n",
              "...              ...  \n",
              "199331             0  \n",
              "199332             5  \n",
              "199333             7  \n",
              "199334             6  \n",
              "199335             7  \n",
              "\n",
              "[199336 rows x 3 columns]"
            ]
          },
          "execution_count": 4,
          "metadata": {},
          "output_type": "execute_result"
        }
      ],
      "source": [
        "# load randomly 10 poems data ###\n",
        "data = generate_dataframe('./Persian_poems_corpus-master/normalized')\n",
        "data"
      ]
    },
    {
      "cell_type": "code",
      "execution_count": null,
      "id": "ihz3a92PnTwv",
      "metadata": {
        "id": "ihz3a92PnTwv"
      },
      "outputs": [],
      "source": [
        "tokenizer = BertTokenizer.from_pretrained(\"HooshvareLab/bert-fa-base-uncased\")"
      ]
    },
    {
      "cell_type": "code",
      "execution_count": null,
      "id": "62823070",
      "metadata": {
        "id": "62823070"
      },
      "outputs": [],
      "source": [
        "df_train, df_val, df_test = np.split(data.sample(frac=1), [int(.8*len(data)), int(.9*len(data))])\n",
        "### balance df_train . number of poems from each poet should be equal ### \n",
        "df_train = df_train.groupby('poet_encoded').apply(lambda x: x.sample(df_train['poet_encoded'].value_counts().max(), replace=True)).reset_index(drop=True)\n",
        "\n",
        "## create torch dataloader and dataset ##\n",
        "train_dataset, val_dataset, test_dataset = PersianPoemsDataset(df_train), PersianPoemsDataset(df_val), PersianPoemsDataset(df_test)\n",
        "train_dataloader = torch.utils.data.DataLoader(train_dataset, batch_size=32, shuffle=True)\n",
        "val_dataloader = torch.utils.data.DataLoader(val_dataset, batch_size=32)\n",
        "test_dataloader = torch.utils.data.DataLoader(test_dataset, batch_size=32)"
      ]
    },
    {
      "cell_type": "code",
      "execution_count": null,
      "id": "4e3aadb8",
      "metadata": {
        "colab": {
          "base_uri": "https://localhost:8080/"
        },
        "id": "4e3aadb8",
        "outputId": "4205f699-c5f9-4e30-99fc-2ba9509cfddf"
      },
      "outputs": [
        {
          "data": {
            "text/plain": [
              "{'kamal_norm': 7,\n",
              " 'ferdousi_norm': 2,\n",
              " 'attar_norm': 0,\n",
              " 'saadi_norm': 9,\n",
              " 'feyz_norm': 3,\n",
              " 'manoochehri_norm': 8,\n",
              " 'helali_norm': 6,\n",
              " 'hafez_norm': 4,\n",
              " 'babaafzal_norm': 1,\n",
              " 'hatef_norm': 5}"
            ]
          },
          "execution_count": 7,
          "metadata": {},
          "output_type": "execute_result"
        }
      ],
      "source": [
        "# find unique poets in the dataset\n",
        "poets = data.poet.unique()\n",
        "poet_encoded = [data[data.poet == poet].poet_encoded.values[0] for poet in poets]\n",
        "poet_dict = dict(zip(poets, poet_encoded))\n",
        "poet_dict"
      ]
    },
    {
      "cell_type": "markdown",
      "id": "b066dee3",
      "metadata": {
        "id": "b066dee3"
      },
      "source": [
        "I choose my poets randomly so my class wa unbalanced ! i use oversampling to balance dataset but please still dont compare accuracy result with others that they select poets how they are balanced!"
      ]
    },
    {
      "cell_type": "code",
      "execution_count": null,
      "id": "24b4996b",
      "metadata": {
        "id": "24b4996b"
      },
      "outputs": [],
      "source": [
        "def train_and_evaluate(model, train_dataloader, val_dataloader, test_dataloader, learning_rate, epochs, criterion, optimizer):\n",
        "\n",
        "    use_cuda = torch.cuda.is_available()\n",
        "    device = torch.device(\"cuda\" if use_cuda else \"cpu\")\n",
        "    model = model.to(device)\n",
        "    criterion = criterion.to(device)\n",
        "    total_loss_train_array = []\n",
        "    total_loss_val_array = []\n",
        "    total_loss_test_array = []\n",
        "    for epoch_num in range(epochs):\n",
        "\n",
        "            total_acc_train = 0\n",
        "            total_loss_train = 0\n",
        "            total_acc_val = 0\n",
        "            total_loss_val = 0\n",
        "            total_loss_test = 0\n",
        "            total_acc_test = 0\n",
        "\n",
        "            for train_input, train_label in tqdm(train_dataloader):\n",
        "                model.train()\n",
        "                train_label = train_label.to(device)\n",
        "                mask = train_input['attention_mask'].to(device)\n",
        "                input_id = train_input['input_ids'].squeeze(1).to(device)\n",
        "\n",
        "                output = model(input_id, mask)\n",
        "                \n",
        "                batch_loss = criterion(output, train_label.long())\n",
        "                total_loss_train += batch_loss.item()\n",
        "                \n",
        "                acc = (output.argmax(dim=1) == train_label).sum().item()\n",
        "                total_acc_train += acc\n",
        "\n",
        "                model.zero_grad()\n",
        "                batch_loss.backward()\n",
        "                optimizer.step()\n",
        "\n",
        "            ### evalute ### \n",
        "            with torch.no_grad():\n",
        "                for val_input, val_label in val_dataloader:\n",
        "                    model.eval()\n",
        "                    val_label = val_label.to(device)\n",
        "                    mask = val_input['attention_mask'].to(device)\n",
        "                    input_id = val_input['input_ids'].squeeze(1).to(device)\n",
        "\n",
        "                    output = model(input_id, mask)\n",
        "\n",
        "                    batch_loss = criterion(output, val_label.long())\n",
        "                    total_loss_val += batch_loss.item()\n",
        "                    \n",
        "                    acc = (output.argmax(dim=1) == val_label).sum().item()\n",
        "                    total_acc_val += acc\n",
        "                for test_input, test_label in test_dataloader:\n",
        "                    test_label = test_label.to(device)\n",
        "                    mask = test_input['attention_mask'].to(device)\n",
        "                    input_id = test_input['input_ids'].squeeze(1).to(device)\n",
        "\n",
        "                    output = model(input_id, mask)\n",
        "\n",
        "                    batch_loss = criterion(output, test_label.long())\n",
        "                    total_loss_test += batch_loss.item()\n",
        "                    \n",
        "                    acc = (output.argmax(dim=1) == test_label).sum().item()\n",
        "                    total_acc_test += acc\n",
        "                \n",
        "            \n",
        "            print(f\"Epoch: {epoch_num+1}/{epochs}\")\n",
        "            print(f\"Train Loss: {total_loss_train/len(train_dataloader):.4f} | Train Acc: {total_acc_train/len(train_dataset):.4f}\")\n",
        "            print(f\"Val Loss: {total_loss_val/len(val_dataloader):.4f} | Val Acc: {total_acc_val/len(val_dataset):.4f}\")\n",
        "            print(f\"Test Loss: {total_loss_test/len(test_dataloader):.4f} | Test Acc: {total_acc_test/len(test_dataset):.4f}\")\n",
        "            print('--------------------------------------')\n",
        "            total_loss_train_array.append(total_loss_train/len(train_dataloader))\n",
        "            total_loss_val_array.append(total_loss_val/len(val_dataloader))\n",
        "            total_loss_test_array.append(total_loss_test/len(test_dataloader))\n",
        "\n",
        "    ### plot result ###\n",
        "    plt.title('Loss')\n",
        "    plt.plot(total_loss_train_array, label='train')\n",
        "    plt.plot(total_loss_val_array, label='validation')\n",
        "    plt.plot(total_loss_test_array, label='test')\n",
        "    plt.legend()\n",
        "    plt.show() \n",
        "    return model,total_loss_train_array,total_loss_test_array,total_loss_val_array\n",
        "\n"
      ]
    },
    {
      "cell_type": "code",
      "execution_count": null,
      "id": "ed966815",
      "metadata": {
        "colab": {
          "base_uri": "https://localhost:8080/",
          "height": 816
        },
        "id": "ed966815",
        "outputId": "b4ab2389-37e3-4ab0-f123-09e778047478"
      },
      "outputs": [
        {
          "name": "stderr",
          "output_type": "stream",
          "text": [
            "100%|██████████| 23780/23780 [09:52<00:00, 40.16it/s]\n"
          ]
        },
        {
          "name": "stdout",
          "output_type": "stream",
          "text": [
            "Epoch: 1/5\n",
            "Train Loss: 1.8747 | Train Acc: 0.3449\n",
            "Val Loss: 1.6063 | Val Acc: 0.4635\n",
            "Test Loss: 1.6201 | Test Acc: 0.4583\n",
            "--------------------------------------\n"
          ]
        },
        {
          "name": "stderr",
          "output_type": "stream",
          "text": [
            "100%|██████████| 23780/23780 [09:43<00:00, 40.78it/s]\n"
          ]
        },
        {
          "name": "stdout",
          "output_type": "stream",
          "text": [
            "Epoch: 2/5\n",
            "Train Loss: 1.7742 | Train Acc: 0.3828\n",
            "Val Loss: 1.6248 | Val Acc: 0.4524\n",
            "Test Loss: 1.6380 | Test Acc: 0.4452\n",
            "--------------------------------------\n"
          ]
        },
        {
          "name": "stderr",
          "output_type": "stream",
          "text": [
            "100%|██████████| 23780/23780 [10:57<00:00, 36.16it/s]\n"
          ]
        },
        {
          "name": "stdout",
          "output_type": "stream",
          "text": [
            "Epoch: 3/5\n",
            "Train Loss: 1.7478 | Train Acc: 0.3921\n",
            "Val Loss: 1.5928 | Val Acc: 0.4661\n",
            "Test Loss: 1.6076 | Test Acc: 0.4589\n",
            "--------------------------------------\n"
          ]
        },
        {
          "name": "stderr",
          "output_type": "stream",
          "text": [
            "100%|██████████| 23780/23780 [10:53<00:00, 36.37it/s]\n"
          ]
        },
        {
          "name": "stdout",
          "output_type": "stream",
          "text": [
            "Epoch: 4/5\n",
            "Train Loss: 1.7311 | Train Acc: 0.3990\n",
            "Val Loss: 1.6091 | Val Acc: 0.4579\n",
            "Test Loss: 1.6233 | Test Acc: 0.4502\n",
            "--------------------------------------\n"
          ]
        },
        {
          "name": "stderr",
          "output_type": "stream",
          "text": [
            "100%|██████████| 23780/23780 [11:03<00:00, 35.82it/s]\n"
          ]
        },
        {
          "name": "stdout",
          "output_type": "stream",
          "text": [
            "Epoch: 5/5\n",
            "Train Loss: 1.7210 | Train Acc: 0.4025\n",
            "Val Loss: 1.5477 | Val Acc: 0.4812\n",
            "Test Loss: 1.5625 | Test Acc: 0.4761\n",
            "--------------------------------------\n"
          ]
        },
        {
          "data": {
            "image/png": "[encoded data removed]",
            "text/plain": [
              "<Figure size 432x288 with 1 Axes>"
            ]
          },
          "metadata": {
            "needs_background": "light"
          },
          "output_type": "display_data"
        }
      ],
      "source": [
        "#### Freeze PRETRAINED WITH ADAM ###\n",
        "model_freeze_ADAM = PoemClassifier(is_freeze = True)\n",
        "EPOCHS = 5\n",
        "LR = 2e-4\n",
        "momentum = 0.9\n",
        "\n",
        "criterion = nn.CrossEntropyLoss()\n",
        "optimizer = Adam(model_freeze_ADAM.parameters(), lr= LR)\n",
        "              \n",
        "model_freeze_ADAM, total_loss_train_array_freeze_ADAM,total_loss_test_array_freeze_ADAM,total_loss_val_array_freeze_ADAM = train_and_evaluate(model_freeze_ADAM, train_dataloader, val_dataloader, test_dataloader, LR, EPOCHS, criterion, optimizer)\n",
        "#save model and result\n",
        "torch.save(model_freeze_ADAM.state_dict(), 'model_freeze_ADAM.pt')\n",
        "np.save('total_loss_train_array_freeze_ADAM.npy', total_loss_train_array_freeze_ADAM)\n",
        "np.save('total_loss_test_array_freeze_ADAM.npy', total_loss_test_array_freeze_ADAM)\n",
        "np.save('total_loss_val_array_freeze_ADAM.npy', total_loss_val_array_freeze_ADAM)\n"
      ]
    },
    {
      "cell_type": "code",
      "execution_count": null,
      "id": "lNnmX9y2-ZD5",
      "metadata": {
        "colab": {
          "base_uri": "https://localhost:8080/"
        },
        "id": "lNnmX9y2-ZD5",
        "outputId": "99454b79-a16a-4f95-9598-b738d1cbce25"
      },
      "outputs": [
        {
          "name": "stdout",
          "output_type": "stream",
          "text": [
            "~~~~~~~~~~~~ Freeze with Adam ~~~~~~~~~~~~ \n",
            "\n",
            "                  precision    recall  f1-score   support\n",
            "\n",
            "      kamal_norm       0.89      0.40      0.55      9613\n",
            "   ferdousi_norm       0.01      0.47      0.03        40\n",
            "      attar_norm       0.78      0.76      0.77      4890\n",
            "      saadi_norm       0.23      0.27      0.25       951\n",
            "       feyz_norm       0.16      0.61      0.25       451\n",
            "manoochehri_norm       0.05      0.30      0.08       171\n",
            "     helali_norm       0.10      0.27      0.15       459\n",
            "      hafez_norm       0.29      0.47      0.36      1551\n",
            "  babaafzal_norm       0.14      0.42      0.21       236\n",
            "      hatef_norm       0.33      0.26      0.29      1572\n",
            "\n",
            "        accuracy                           0.48     19934\n",
            "       macro avg       0.30      0.42      0.29     19934\n",
            "    weighted avg       0.69      0.48      0.53     19934\n",
            "\n",
            "confusion matrix : \n",
            " [[3827  954  753  571  574  490  648 1069  271  456]\n",
            " [   5   19    1    2    3    2    2    3    1    2]\n",
            " [ 149  107 3707   49   64  121   86  296  172  139]\n",
            " [  82   74   14  254  157   77   92  122   37   42]\n",
            " [   7   16    6   23  275   43   22   25   10   24]\n",
            " [  10    5    7   16   30   52    9   19   13   10]\n",
            " [  28   29   25   26   87   44  123   50   10   37]\n",
            " [  74   77   86   66  174   89  105  725   58   97]\n",
            " [  10   12   26   10   12   17    7   32  100   10]\n",
            " [  86  111  137   67  337  140   85  146   54  409]]\n",
            "f1_score : 0.2942232198962969\n"
          ]
        }
      ],
      "source": [
        "## confusion matrix , ... ##\n",
        "report_model(model_freeze_ADAM,test_dataloader, 'Freeze with Adam')"
      ]
    },
    {
      "cell_type": "code",
      "execution_count": null,
      "id": "2f193f5e",
      "metadata": {
        "id": "2f193f5e",
        "outputId": "0bb3d5c0-865a-4d74-ae04-fa1a333002b9"
      },
      "outputs": [
        {
          "name": "stderr",
          "output_type": "stream",
          "text": [
            "100%|██████████| 23780/23780 [11:04<00:00, 35.76it/s]\n"
          ]
        },
        {
          "name": "stdout",
          "output_type": "stream",
          "text": [
            "Epoch: 1/5\n",
            "Train Loss: 1.9331 | Train Acc: 0.3239\n",
            "Val Loss: 1.6928 | Val Acc: 0.4248\n",
            "Test Loss: 1.7035 | Test Acc: 0.4220\n",
            "--------------------------------------\n"
          ]
        },
        {
          "name": "stderr",
          "output_type": "stream",
          "text": [
            "100%|██████████| 23780/23780 [11:10<00:00, 35.48it/s]\n"
          ]
        },
        {
          "name": "stdout",
          "output_type": "stream",
          "text": [
            "Epoch: 2/5\n",
            "Train Loss: 1.8186 | Train Acc: 0.3672\n",
            "Val Loss: 1.6789 | Val Acc: 0.4262\n",
            "Test Loss: 1.6918 | Test Acc: 0.4203\n",
            "--------------------------------------\n"
          ]
        },
        {
          "name": "stderr",
          "output_type": "stream",
          "text": [
            "100%|██████████| 23780/23780 [11:09<00:00, 35.53it/s]\n"
          ]
        },
        {
          "name": "stdout",
          "output_type": "stream",
          "text": [
            "Epoch: 3/5\n",
            "Train Loss: 1.7841 | Train Acc: 0.3800\n",
            "Val Loss: 1.5990 | Val Acc: 0.4625\n",
            "Test Loss: 1.6127 | Test Acc: 0.4572\n",
            "--------------------------------------\n"
          ]
        },
        {
          "name": "stderr",
          "output_type": "stream",
          "text": [
            "100%|██████████| 23780/23780 [10:13<00:00, 38.75it/s]\n"
          ]
        },
        {
          "name": "stdout",
          "output_type": "stream",
          "text": [
            "Epoch: 4/5\n",
            "Train Loss: 1.7629 | Train Acc: 0.3878\n",
            "Val Loss: 1.6035 | Val Acc: 0.4660\n",
            "Test Loss: 1.6167 | Test Acc: 0.4594\n",
            "--------------------------------------\n"
          ]
        },
        {
          "name": "stderr",
          "output_type": "stream",
          "text": [
            "100%|██████████| 23780/23780 [11:09<00:00, 35.53it/s]\n"
          ]
        },
        {
          "name": "stdout",
          "output_type": "stream",
          "text": [
            "Epoch: 5/5\n",
            "Train Loss: 1.7493 | Train Acc: 0.3931\n",
            "Val Loss: 1.5222 | Val Acc: 0.4906\n",
            "Test Loss: 1.5343 | Test Acc: 0.4828\n",
            "--------------------------------------\n"
          ]
        },
        {
          "data": {
            "image/png": "[encoded data removed]",
            "text/plain": [
              "<Figure size 432x288 with 1 Axes>"
            ]
          },
          "metadata": {
            "needs_background": "light"
          },
          "output_type": "display_data"
        }
      ],
      "source": [
        "#### Freeze PRETRAINED WITH SGD ###\n",
        "model_unfreeze_SGD = PoemClassifier(is_freeze = False)\n",
        "EPOCHS = 5\n",
        "LR = 5e-4\n",
        "criterion = nn.CrossEntropyLoss()\n",
        "momentum = 0.9\n",
        "optimizer = SGD(model_unfreeze_SGD.parameters(), lr= LR, momentum = momentum)\n",
        "model_unfreeze_SGD, total_loss_train_array_freeze_SGD,total_loss_test_array_freeze_SGD,total_loss_val_array_freeze_SGD = train_and_evaluate(model_unfreeze_SGD, train_dataloader, val_dataloader, test_dataloader, LR, EPOCHS, criterion, optimizer)\n",
        "# save model and result\n",
        "torch.save(model_unfreeze_SGD.state_dict(), 'model_freeze_SGD.pt')\n",
        "np.save('total_loss_train_array_freeze_SGD.npy', total_loss_train_array_freeze_SGD)\n",
        "np.save('total_loss_test_array_freeze_SGD.npy', total_loss_test_array_freeze_SGD)\n",
        "np.save('total_loss_val_array_freeze_SGD.npy', total_loss_val_array_freeze_SGD)\n"
      ]
    },
    {
      "cell_type": "code",
      "execution_count": null,
      "id": "b5ad44d9",
      "metadata": {
        "id": "b5ad44d9",
        "outputId": "1c775acf-a0cf-46cb-8dbc-2bbcd8272d44"
      },
      "outputs": [
        {
          "name": "stdout",
          "output_type": "stream",
          "text": [
            "~~~~~~~~~~~~ unFreeze with SGD ~~~~~~~~~~~~ \n",
            "\n",
            "                  precision    recall  f1-score   support\n",
            "\n",
            "      kamal_norm       0.87      0.44      0.58      9613\n",
            "   ferdousi_norm       0.01      0.62      0.02        40\n",
            "      attar_norm       0.77      0.74      0.75      4890\n",
            "      saadi_norm       0.24      0.30      0.27       951\n",
            "       feyz_norm       0.24      0.39      0.30       451\n",
            "manoochehri_norm       0.07      0.18      0.10       171\n",
            "     helali_norm       0.10      0.38      0.15       459\n",
            "      hafez_norm       0.34      0.34      0.34      1551\n",
            "  babaafzal_norm       0.10      0.53      0.18       236\n",
            "      hatef_norm       0.34      0.28      0.31      1572\n",
            "\n",
            "        accuracy                           0.48     19934\n",
            "       macro avg       0.31      0.42      0.30     19934\n",
            "    weighted avg       0.68      0.48      0.54     19934\n",
            "\n",
            "confusion matrix : \n",
            " [[4223 1288  760  598  191  181  888  610  445  429]\n",
            " [   4   25    0    2    0    2    1    0    2    4]\n",
            " [ 213  192 3616   60   15   45  159  165  285  140]\n",
            " [ 109  119   16  289   50   39  142   79   57   51]\n",
            " [  14   40    9   33  176   23   62   21   23   50]\n",
            " [  11   20   10   17   17   31   13   17   20   15]\n",
            " [  33   55   26   33   33   17  174   35   21   32]\n",
            " [ 126  151  109   93   80   42  176  526  133  115]\n",
            " [  13   15   26    9    7    9   10   13  126    8]\n",
            " [ 134  188  147   83  154   77  175   86   90  438]]\n",
            "f1_score : 0.2997857287115701\n"
          ]
        }
      ],
      "source": [
        "## confusion matrix , ... ##\n",
        "report_model(model_unfreeze_SGD,test_dataloader,'unFreeze with SGD')"
      ]
    },
    {
      "cell_type": "code",
      "execution_count": null,
      "id": "54b05540",
      "metadata": {
        "colab": {
          "base_uri": "https://localhost:8080/"
        },
        "id": "54b05540",
        "outputId": "2176097e-1e4f-444f-e74a-0f3c6d93098b"
      },
      "outputs": [
        {
          "name": "stderr",
          "output_type": "stream",
          "text": [
            "100%|██████████| 23780/23780 [11:18<00:00, 35.06it/s]\n"
          ]
        },
        {
          "name": "stdout",
          "output_type": "stream",
          "text": [
            "Epoch: 1/5\n",
            "Train Loss: 1.8271 | Train Acc: 0.3598\n",
            "Val Loss: 1.6406 | Val Acc: 0.4412\n",
            "Test Loss: 1.6547 | Test Acc: 0.4329\n",
            "--------------------------------------\n"
          ]
        },
        {
          "name": "stderr",
          "output_type": "stream",
          "text": [
            "100%|██████████| 23780/23780 [11:21<00:00, 34.91it/s]\n"
          ]
        },
        {
          "name": "stdout",
          "output_type": "stream",
          "text": [
            "Epoch: 2/5\n",
            "Train Loss: 1.7455 | Train Acc: 0.3917\n",
            "Val Loss: 1.6578 | Val Acc: 0.4361\n",
            "Test Loss: 1.6729 | Test Acc: 0.4307\n",
            "--------------------------------------\n"
          ]
        },
        {
          "name": "stderr",
          "output_type": "stream",
          "text": [
            "100%|██████████| 23780/23780 [11:01<00:00, 35.95it/s]\n"
          ]
        },
        {
          "name": "stdout",
          "output_type": "stream",
          "text": [
            "Epoch: 3/5\n",
            "Train Loss: 1.7246 | Train Acc: 0.3998\n",
            "Val Loss: 1.4808 | Val Acc: 0.5085\n",
            "Test Loss: 1.4946 | Test Acc: 0.5059\n",
            "--------------------------------------\n"
          ]
        },
        {
          "name": "stderr",
          "output_type": "stream",
          "text": [
            "100%|██████████| 23780/23780 [11:17<00:00, 35.08it/s]\n"
          ]
        },
        {
          "name": "stdout",
          "output_type": "stream",
          "text": [
            "Epoch: 4/5\n",
            "Train Loss: 1.7129 | Train Acc: 0.4038\n",
            "Val Loss: 1.4413 | Val Acc: 0.5085\n",
            "Test Loss: 1.4564 | Test Acc: 0.4997\n",
            "--------------------------------------\n"
          ]
        },
        {
          "name": "stderr",
          "output_type": "stream",
          "text": [
            "100%|██████████| 23780/23780 [11:18<00:00, 35.04it/s]\n"
          ]
        },
        {
          "name": "stdout",
          "output_type": "stream",
          "text": [
            "Epoch: 5/5\n",
            "Train Loss: 1.7058 | Train Acc: 0.4062\n",
            "Val Loss: 1.6503 | Val Acc: 0.4380\n",
            "Test Loss: 1.6674 | Test Acc: 0.4322\n",
            "--------------------------------------\n"
          ]
        },
        {
          "data": {
            "image/png": "[encoded data removed]",
            "text/plain": [
              "<Figure size 432x288 with 1 Axes>"
            ]
          },
          "metadata": {
            "needs_background": "light"
          },
          "output_type": "display_data"
        }
      ],
      "source": [
        "#### Fine_tune_ADAM PRETRAINED WITH ADAM ###\n",
        "model_unfreeze_ADAM = PoemClassifier(is_freeze = False)\n",
        "EPOCHS = 5\n",
        "LR = 5e-4 \n",
        "criterion = nn.CrossEntropyLoss()\n",
        "optimizer = Adam(model_unfreeze_ADAM.parameters(), lr= LR)\n",
        "              \n",
        "model_unfreeze_ADAM, total_loss_train_array_unfreeze_ADAM,total_loss_test_array_unfreeze_ADAM,total_loss_val_array_unfreeze_ADAM = train_and_evaluate(model_unfreeze_ADAM, train_dataloader, val_dataloader, test_dataloader, LR, EPOCHS, criterion, optimizer)\n",
        "# save model and result\n",
        "torch.save(model_unfreeze_ADAM.state_dict(), 'model_unfreeze_ADAM.pt')\n",
        "np.save('total_loss_train_array_unfreeze_ADAM.npy', total_loss_train_array_unfreeze_ADAM)\n",
        "np.save('total_loss_test_array_unfreeze_ADAM.npy', total_loss_test_array_unfreeze_ADAM)\n",
        "np.save('total_loss_val_array_unfreeze_ADAM.npy', total_loss_val_array_unfreeze_ADAM)\n"
      ]
    },
    {
      "cell_type": "markdown",
      "source": [
        "**it is abvious that with appropriate LR , unfreeze bert will learn better because it has more parameters . it happen hear too but their difference i think could be more ! i should check more different learning rate (as i did for freeze model before running) but deadline was here ! :))**"
      ],
      "metadata": {
        "id": "Orn6DkLmvmZd"
      },
      "id": "Orn6DkLmvmZd"
    },
    {
      "cell_type": "code",
      "execution_count": null,
      "id": "_a0oR06cIXBe",
      "metadata": {
        "id": "_a0oR06cIXBe",
        "outputId": "1e0d7224-4829-4caf-daf5-82880f8fe8d1"
      },
      "outputs": [
        {
          "name": "stdout",
          "output_type": "stream",
          "text": [
            "~~~~~~~~~~~~ unFreeze with ADAM ~~~~~~~~~~~~ \n",
            "\n",
            "                  precision    recall  f1-score   support\n",
            "\n",
            "      kamal_norm       0.93      0.28      0.43      9613\n",
            "   ferdousi_norm       0.01      0.57      0.02        40\n",
            "      attar_norm       0.76      0.78      0.77      4890\n",
            "      saadi_norm       0.24      0.28      0.26       951\n",
            "       feyz_norm       0.18      0.56      0.27       451\n",
            "manoochehri_norm       0.06      0.22      0.09       171\n",
            "     helali_norm       0.14      0.15      0.14       459\n",
            "      hafez_norm       0.24      0.57      0.33      1551\n",
            "  babaafzal_norm       0.10      0.53      0.17       236\n",
            "      hatef_norm       0.31      0.30      0.30      1572\n",
            "\n",
            "        accuracy                           0.43     19934\n",
            "       macro avg       0.30      0.42      0.28     19934\n",
            "    weighted avg       0.70      0.43      0.47     19934\n",
            "\n",
            "confusion matrix : \n",
            " [[2686 1361  918  617  464  285  275 1825  532  650]\n",
            " [   2   23    0    1    4    1    0    5    2    2]\n",
            " [  57  131 3811   47   45   53   29  352  241  124]\n",
            " [  38  106   15  266  133   40   35  210   49   59]\n",
            " [   3   28    7   21  254   27    9   49   22   31]\n",
            " [   5   10    9   10   27   37    2   33   21   17]\n",
            " [  12   51   25   30   79   28   67  102   20   45]\n",
            " [  34   94   88   55  114   46   37  880   95  108]\n",
            " [   3   11   23    6   11   10    3   37  124    8]\n",
            " [  36  143  147   61  285   86   25  231   91  467]]\n",
            "f1_score : 0.27966780365042576\n"
          ]
        }
      ],
      "source": [
        "## confusion matrix , ... ##\n",
        "report_model(model_unfreeze_ADAM,test_dataloader,'unFreeze with ADAM')"
      ]
    },
    {
      "cell_type": "code",
      "execution_count": null,
      "id": "1f7375d5",
      "metadata": {
        "id": "1f7375d5",
        "outputId": "663d28e2-6b29-445c-eb0f-a04b95fb74de"
      },
      "outputs": [
        {
          "name": "stdout",
          "output_type": "stream",
          "text": [
            "Before Fine-tuning: 5.3417\n",
            "After Fine-tuning: 5.2274\n"
          ]
        }
      ],
      "source": [
        "criterion = nn.CrossEntropyLoss()\n",
        "perplexity1, perplexity2 = perplexity(model_freeze_ADAM, model_unfreeze_ADAM, test_dataloader,criterion)\n",
        "print(f\"Before Fine-tuning: {perplexity1:>0.4f}\")  \n",
        "print(f\"After Fine-tuning: {perplexity2:>0.4f}\")  \n"
      ]
    }
  ],
  "metadata": {
    "accelerator": "GPU",
    "colab": {
      "provenance": []
    },
    "gpuClass": "standard",
    "kernelspec": {
      "display_name": "Python 3.10.5 64-bit",
      "language": "python",
      "name": "python3"
    },
    "language_info": {
      "codemirror_mode": {
        "name": "ipython",
        "version": 3
      },
      "file_extension": ".py",
      "mimetype": "text/x-python",
      "name": "python",
      "nbconvert_exporter": "python",
      "pygments_lexer": "ipython3",
      "version": "3.10.5"
    },
    "vscode": {
      "interpreter": {
        "hash": "9c7f5a96e196bafa8eb4912f7c266e965e894bbfb702cd276d56adfe2d42cab6"
      }
    }
  },
  "nbformat": 4,
  "nbformat_minor": 5
}