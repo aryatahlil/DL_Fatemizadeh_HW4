{
  "cells": [
    {
      "cell_type": "code",
      "execution_count": 1,
      "id": "8f344545",
      "metadata": {
        "colab": {
          "base_uri": "https://localhost:8080/"
        },
        "id": "8f344545",
        "outputId": "19c72d55-e660-4441-e918-5455088b72c9"
      },
      "outputs": [
        {
          "name": "stdout",
          "output_type": "stream",
          "text": [
            "Looking in indexes: https://pypi.org/simple, https://pypi.ngc.nvidia.com\n",
            "Requirement already satisfied: transformers in e:\\python310\\lib\\site-packages (4.24.0)\n",
            "Requirement already satisfied: numpy>=1.17 in e:\\python310\\lib\\site-packages (from transformers) (1.23.1)\n",
            "Requirement already satisfied: huggingface-hub<1.0,>=0.10.0 in e:\\python310\\lib\\site-packages (from transformers) (0.12.0)\n",
            "Requirement already satisfied: requests in e:\\python310\\lib\\site-packages (from transformers) (2.28.1)\n",
            "Requirement already satisfied: tokenizers!=0.11.3,<0.14,>=0.11.1 in e:\\python310\\lib\\site-packages (from transformers) (0.13.1)\n",
            "Requirement already satisfied: tqdm>=4.27 in e:\\python310\\lib\\site-packages (from transformers) (4.64.0)\n",
            "Requirement already satisfied: pyyaml>=5.1 in e:\\python310\\lib\\site-packages (from transformers) (6.0)\n",
            "Requirement already satisfied: regex!=2019.12.17 in e:\\python310\\lib\\site-packages (from transformers) (2022.7.9)\n",
            "Requirement already satisfied: filelock in e:\\python310\\lib\\site-packages (from transformers) (3.7.1)\n",
            "Requirement already satisfied: packaging>=20.0 in e:\\python310\\lib\\site-packages (from transformers) (21.3)\n",
            "Requirement already satisfied: typing-extensions>=3.7.4.3 in e:\\python310\\lib\\site-packages (from huggingface-hub<1.0,>=0.10.0->transformers) (4.3.0)\n",
            "Requirement already satisfied: pyparsing!=3.0.5,>=2.0.2 in e:\\python310\\lib\\site-packages (from packaging>=20.0->transformers) (3.0.9)\n",
            "Requirement already satisfied: colorama in e:\\python310\\lib\\site-packages (from tqdm>=4.27->transformers) (0.4.5)\n",
            "Requirement already satisfied: idna<4,>=2.5 in e:\\python310\\lib\\site-packages (from requests->transformers) (3.3)\n",
            "Requirement already satisfied: certifi>=2017.4.17 in e:\\python310\\lib\\site-packages (from requests->transformers) (2022.6.15)\n",
            "Requirement already satisfied: urllib3<1.27,>=1.21.1 in e:\\python310\\lib\\site-packages (from requests->transformers) (1.26.12)\n",
            "Requirement already satisfied: charset-normalizer<3,>=2 in e:\\python310\\lib\\site-packages (from requests->transformers) (2.1.0)\n"
          ]
        },
        {
          "name": "stderr",
          "output_type": "stream",
          "text": [
            "WARNING: Ignoring invalid distribution -p (e:\\python310\\lib\\site-packages)\n",
            "WARNING: Ignoring invalid distribution -2p (e:\\python310\\lib\\site-packages)\n",
            "WARNING: Ignoring invalid distribution -1p (e:\\python310\\lib\\site-packages)\n",
            "WARNING: Ignoring invalid distribution -p (e:\\python310\\lib\\site-packages)\n",
            "WARNING: Ignoring invalid distribution -0p (e:\\python310\\lib\\site-packages)\n",
            "WARNING: Ignoring invalid distribution -latbuffers (e:\\python310\\lib\\site-packages)\n",
            "WARNING: Ignoring invalid distribution -ip (e:\\python310\\lib\\site-packages)\n",
            "WARNING: Ignoring invalid distribution - (e:\\python310\\lib\\site-packages)\n",
            "WARNING: Ignoring invalid distribution -ensorflow-estimator (e:\\python310\\lib\\site-packages)\n",
            "WARNING: Ignoring invalid distribution -p (e:\\python310\\lib\\site-packages)\n",
            "WARNING: Ignoring invalid distribution -2p (e:\\python310\\lib\\site-packages)\n",
            "WARNING: Ignoring invalid distribution -1p (e:\\python310\\lib\\site-packages)\n",
            "WARNING: Ignoring invalid distribution -p (e:\\python310\\lib\\site-packages)\n",
            "WARNING: Ignoring invalid distribution -0p (e:\\python310\\lib\\site-packages)\n",
            "WARNING: Ignoring invalid distribution -latbuffers (e:\\python310\\lib\\site-packages)\n",
            "WARNING: Ignoring invalid distribution -ip (e:\\python310\\lib\\site-packages)\n",
            "WARNING: Ignoring invalid distribution - (e:\\python310\\lib\\site-packages)\n",
            "WARNING: Ignoring invalid distribution -ensorflow-estimator (e:\\python310\\lib\\site-packages)\n",
            "WARNING: Ignoring invalid distribution -p (e:\\python310\\lib\\site-packages)\n",
            "WARNING: Ignoring invalid distribution -2p (e:\\python310\\lib\\site-packages)\n",
            "WARNING: Ignoring invalid distribution -1p (e:\\python310\\lib\\site-packages)\n",
            "WARNING: Ignoring invalid distribution -p (e:\\python310\\lib\\site-packages)\n",
            "WARNING: Ignoring invalid distribution -0p (e:\\python310\\lib\\site-packages)\n",
            "WARNING: Ignoring invalid distribution -latbuffers (e:\\python310\\lib\\site-packages)\n",
            "WARNING: Ignoring invalid distribution -ip (e:\\python310\\lib\\site-packages)\n",
            "WARNING: Ignoring invalid distribution - (e:\\python310\\lib\\site-packages)\n",
            "WARNING: Ignoring invalid distribution -ensorflow-estimator (e:\\python310\\lib\\site-packages)\n",
            "WARNING: Ignoring invalid distribution -p (e:\\python310\\lib\\site-packages)\n",
            "WARNING: Ignoring invalid distribution -2p (e:\\python310\\lib\\site-packages)\n",
            "WARNING: Ignoring invalid distribution -1p (e:\\python310\\lib\\site-packages)\n",
            "WARNING: Ignoring invalid distribution -p (e:\\python310\\lib\\site-packages)\n",
            "WARNING: Ignoring invalid distribution -0p (e:\\python310\\lib\\site-packages)\n",
            "WARNING: Ignoring invalid distribution -latbuffers (e:\\python310\\lib\\site-packages)\n",
            "WARNING: Ignoring invalid distribution -ip (e:\\python310\\lib\\site-packages)\n",
            "WARNING: Ignoring invalid distribution - (e:\\python310\\lib\\site-packages)\n",
            "WARNING: Ignoring invalid distribution -ensorflow-estimator (e:\\python310\\lib\\site-packages)\n",
            "WARNING: Ignoring invalid distribution -p (e:\\python310\\lib\\site-packages)\n",
            "WARNING: Ignoring invalid distribution -2p (e:\\python310\\lib\\site-packages)\n",
            "WARNING: Ignoring invalid distribution -1p (e:\\python310\\lib\\site-packages)\n",
            "WARNING: Ignoring invalid distribution -p (e:\\python310\\lib\\site-packages)\n",
            "WARNING: Ignoring invalid distribution -0p (e:\\python310\\lib\\site-packages)\n",
            "WARNING: Ignoring invalid distribution -latbuffers (e:\\python310\\lib\\site-packages)\n",
            "WARNING: Ignoring invalid distribution -ip (e:\\python310\\lib\\site-packages)\n",
            "WARNING: Ignoring invalid distribution - (e:\\python310\\lib\\site-packages)\n",
            "WARNING: Ignoring invalid distribution -ensorflow-estimator (e:\\python310\\lib\\site-packages)\n",
            "WARNING: Ignoring invalid distribution -p (e:\\python310\\lib\\site-packages)\n",
            "WARNING: Ignoring invalid distribution -2p (e:\\python310\\lib\\site-packages)\n",
            "WARNING: Ignoring invalid distribution -1p (e:\\python310\\lib\\site-packages)\n",
            "WARNING: Ignoring invalid distribution -p (e:\\python310\\lib\\site-packages)\n",
            "WARNING: Ignoring invalid distribution -0p (e:\\python310\\lib\\site-packages)\n",
            "WARNING: Ignoring invalid distribution -latbuffers (e:\\python310\\lib\\site-packages)\n",
            "WARNING: Ignoring invalid distribution -ip (e:\\python310\\lib\\site-packages)\n",
            "WARNING: Ignoring invalid distribution - (e:\\python310\\lib\\site-packages)\n",
            "WARNING: Ignoring invalid distribution -ensorflow-estimator (e:\\python310\\lib\\site-packages)\n",
            "\n",
            "[notice] A new release of pip available: 22.3 -> 23.0\n",
            "[notice] To update, run: python.exe -m pip install --upgrade pip\n",
            "WARNING: Ignoring invalid distribution -p (e:\\python310\\lib\\site-packages)\n",
            "WARNING: Ignoring invalid distribution -2p (e:\\python310\\lib\\site-packages)\n",
            "WARNING: Ignoring invalid distribution -1p (e:\\python310\\lib\\site-packages)\n",
            "WARNING: Ignoring invalid distribution -p (e:\\python310\\lib\\site-packages)\n",
            "WARNING: Ignoring invalid distribution -0p (e:\\python310\\lib\\site-packages)\n",
            "WARNING: Ignoring invalid distribution -latbuffers (e:\\python310\\lib\\site-packages)\n",
            "WARNING: Ignoring invalid distribution -ip (e:\\python310\\lib\\site-packages)\n",
            "WARNING: Ignoring invalid distribution - (e:\\python310\\lib\\site-packages)\n",
            "WARNING: Ignoring invalid distribution -ensorflow-estimator (e:\\python310\\lib\\site-packages)\n",
            "WARNING: Ignoring invalid distribution -p (e:\\python310\\lib\\site-packages)\n",
            "WARNING: Ignoring invalid distribution -2p (e:\\python310\\lib\\site-packages)\n",
            "WARNING: Ignoring invalid distribution -1p (e:\\python310\\lib\\site-packages)\n",
            "WARNING: Ignoring invalid distribution -p (e:\\python310\\lib\\site-packages)\n",
            "WARNING: Ignoring invalid distribution -0p (e:\\python310\\lib\\site-packages)\n",
            "WARNING: Ignoring invalid distribution -latbuffers (e:\\python310\\lib\\site-packages)\n",
            "WARNING: Ignoring invalid distribution -ip (e:\\python310\\lib\\site-packages)\n",
            "WARNING: Ignoring invalid distribution - (e:\\python310\\lib\\site-packages)\n",
            "WARNING: Ignoring invalid distribution -ensorflow-estimator (e:\\python310\\lib\\site-packages)\n",
            "WARNING: Ignoring invalid distribution -p (e:\\python310\\lib\\site-packages)\n",
            "WARNING: Ignoring invalid distribution -2p (e:\\python310\\lib\\site-packages)\n",
            "WARNING: Ignoring invalid distribution -1p (e:\\python310\\lib\\site-packages)\n",
            "WARNING: Ignoring invalid distribution -p (e:\\python310\\lib\\site-packages)\n",
            "WARNING: Ignoring invalid distribution -0p (e:\\python310\\lib\\site-packages)\n",
            "WARNING: Ignoring invalid distribution -latbuffers (e:\\python310\\lib\\site-packages)\n",
            "WARNING: Ignoring invalid distribution -ip (e:\\python310\\lib\\site-packages)\n",
            "WARNING: Ignoring invalid distribution - (e:\\python310\\lib\\site-packages)\n",
            "WARNING: Ignoring invalid distribution -ensorflow-estimator (e:\\python310\\lib\\site-packages)\n",
            "WARNING: Ignoring invalid distribution -p (e:\\python310\\lib\\site-packages)\n",
            "WARNING: Ignoring invalid distribution -2p (e:\\python310\\lib\\site-packages)\n",
            "WARNING: Ignoring invalid distribution -1p (e:\\python310\\lib\\site-packages)\n",
            "WARNING: Ignoring invalid distribution -p (e:\\python310\\lib\\site-packages)\n",
            "WARNING: Ignoring invalid distribution -0p (e:\\python310\\lib\\site-packages)\n",
            "WARNING: Ignoring invalid distribution -latbuffers (e:\\python310\\lib\\site-packages)\n",
            "WARNING: Ignoring invalid distribution -ip (e:\\python310\\lib\\site-packages)\n",
            "WARNING: Ignoring invalid distribution - (e:\\python310\\lib\\site-packages)\n",
            "WARNING: Ignoring invalid distribution -ensorflow-estimator (e:\\python310\\lib\\site-packages)\n",
            "WARNING: Ignoring invalid distribution -p (e:\\python310\\lib\\site-packages)\n",
            "WARNING: Ignoring invalid distribution -2p (e:\\python310\\lib\\site-packages)\n",
            "WARNING: Ignoring invalid distribution -1p (e:\\python310\\lib\\site-packages)\n",
            "WARNING: Ignoring invalid distribution -p (e:\\python310\\lib\\site-packages)\n",
            "WARNING: Ignoring invalid distribution -0p (e:\\python310\\lib\\site-packages)\n",
            "WARNING: Ignoring invalid distribution -latbuffers (e:\\python310\\lib\\site-packages)\n",
            "WARNING: Ignoring invalid distribution -ip (e:\\python310\\lib\\site-packages)\n",
            "WARNING: Ignoring invalid distribution - (e:\\python310\\lib\\site-packages)\n",
            "WARNING: Ignoring invalid distribution -ensorflow-estimator (e:\\python310\\lib\\site-packages)\n",
            "WARNING: Ignoring invalid distribution -p (e:\\python310\\lib\\site-packages)\n",
            "WARNING: Ignoring invalid distribution -2p (e:\\python310\\lib\\site-packages)\n",
            "WARNING: Ignoring invalid distribution -1p (e:\\python310\\lib\\site-packages)\n",
            "WARNING: Ignoring invalid distribution -p (e:\\python310\\lib\\site-packages)\n",
            "WARNING: Ignoring invalid distribution -0p (e:\\python310\\lib\\site-packages)\n",
            "WARNING: Ignoring invalid distribution -latbuffers (e:\\python310\\lib\\site-packages)\n",
            "WARNING: Ignoring invalid distribution -ip (e:\\python310\\lib\\site-packages)\n",
            "WARNING: Ignoring invalid distribution - (e:\\python310\\lib\\site-packages)\n",
            "WARNING: Ignoring invalid distribution -ensorflow-estimator (e:\\python310\\lib\\site-packages)\n",
            "\n",
            "[notice] A new release of pip available: 22.3 -> 23.0\n",
            "[notice] To update, run: python.exe -m pip install --upgrade pip\n",
            "Cloning into 'Persian_poems_corpus'...\n",
            "fatal: unable to access 'https://github.com/amnghd/Persian_poems_corpus.git/': OpenSSL SSL_connect: Connection was reset in connection to github.com:443 \n"
          ]
        }
      ],
      "source": [
        "!pip install transformers\n",
        "!pip install -q hazm\n",
        "!git clone https://github.com/amnghd/Persian_poems_corpus.git"
      ]
    },
    {
      "cell_type": "code",
      "execution_count": 2,
      "id": "a76b2789",
      "metadata": {
        "id": "a76b2789"
      },
      "outputs": [],
      "source": [
        "import numpy as np\n",
        "import pandas as pd\n",
        "import random\n",
        "import matplotlib.pyplot as plt\n",
        "from tqdm import tqdm\n",
        "from sklearn.metrics import classification_report, confusion_matrix, accuracy_score, f1_score\n",
        "%matplotlib inline\n",
        "from transformers import BertTokenizer\n",
        "from transformers import BertModel\n",
        "import torch\n",
        "from torch import nn\n",
        "import torch.nn.functional as F\n",
        "from torch.optim import Adam, SGD\n",
        "\n",
        "import hazm\n",
        "from sklearn.preprocessing import LabelEncoder\n",
        "import os\n",
        "import pandas as pd\n",
        "import random\n",
        "device = \"cuda\" if torch.cuda.is_available() else \"cpu\"\n"
      ]
    },
    {
      "cell_type": "code",
      "execution_count": 17,
      "id": "b747829e",
      "metadata": {
        "colab": {
          "base_uri": "https://localhost:8080/"
        },
        "id": "b747829e",
        "outputId": "7115bbe4-6861-4206-e26a-9d053196b4de"
      },
      "outputs": [
        {
          "name": "stderr",
          "output_type": "stream",
          "text": [
            "Some weights of the model checkpoint at HooshvareLab/bert-fa-base-uncased were not used when initializing BertModel: ['cls.predictions.bias', 'cls.predictions.transform.LayerNorm.weight', 'cls.seq_relationship.weight', 'cls.seq_relationship.bias', 'cls.predictions.transform.LayerNorm.bias', 'cls.predictions.transform.dense.weight', 'cls.predictions.transform.dense.bias', 'cls.predictions.decoder.bias', 'cls.predictions.decoder.weight']\n",
            "- This IS expected if you are initializing BertModel from the checkpoint of a model trained on another task or with another architecture (e.g. initializing a BertForSequenceClassification model from a BertForPreTraining model).\n",
            "- This IS NOT expected if you are initializing BertModel from the checkpoint of a model that you expect to be exactly identical (initializing a BertForSequenceClassification model from a BertForSequenceClassification model).\n"
          ]
        }
      ],
      "source": [
        "### NEEDED FUNCTION AND CLASSES ###\n",
        "\n",
        "def generate_dataframe(folder_path):\n",
        "    files = os.listdir(folder_path)\n",
        "    poem_files = [f for f in files if f.endswith('.txt')]\n",
        "    selected_poems = random.sample(poem_files, 10)\n",
        "\n",
        "    data = pd.DataFrame(columns=['beyt', 'poet'])\n",
        "\n",
        "    for poem_file in selected_poems:\n",
        "        df = pd.read_csv(os.path.join(folder_path, poem_file), header=None)\n",
        "        poet = poem_file.split(\".\")[0]\n",
        "        lst = [''] * int(len(df) / 2)\n",
        "        df_beyt = pd.DataFrame(lst, columns=['beyt'])\n",
        "        for i in range(int(len(df) / 2)):\n",
        "            df_beyt.iloc[i] = df.iloc[2 * i] + ' [SEP] ' + df.iloc[2 * i + 1]\n",
        "        df_beyt['poet'] = poet\n",
        "        data = pd.concat([data, df_beyt], ignore_index=True, sort=False)\n",
        "        # Create a LabelEncoder object\n",
        "        le = LabelEncoder()\n",
        "\n",
        "          # Fit the LabelEncoder object to the target column\n",
        "        le.fit(data['poet'])\n",
        "\n",
        "        # Transform the target column to numerical values\n",
        "        data['poet_encoded'] = le.transform(data['poet'])\n",
        "    return data.sample(frac=1).reset_index(drop=True)\n",
        "\n",
        "class PersianPoemsDataset(torch.utils.data.Dataset):\n",
        "    \"\"\" Create a PyTorch dataset for Persian poems corpus. \"\"\"\n",
        "    def __init__(self, df):\n",
        "        poets = data.poet.unique()\n",
        "        poet_encoded = [data[data.poet == poet].poet_encoded.values[0] for poet in poets]\n",
        "        poet_dict = dict(zip(poets, poet_encoded))\n",
        "        self.labels = [poet_dict[label] for label in df['poet']]\n",
        "        self.texts = [tokenizer(text, padding='max_length', max_length = 35, truncation=True,return_tensors=\"pt\") for text in df['beyt']]\n",
        "    def classes(self):\n",
        "        return self.labels\n",
        "    def __len__(self):\n",
        "        return len(self.labels)\n",
        "    def __getitem__(self, idx):\n",
        "        return self.texts[idx], np.array(self.labels[idx])\n",
        "ParsBERT = BertModel.from_pretrained('HooshvareLab/bert-fa-base-uncased')\n",
        "class PoemClassifier(nn.Module):\n",
        "    def __init__(self,is_freeze=True):\n",
        "        super(PoemClassifier, self).__init__()\n",
        "        self.bert = ParsBERT\n",
        "        if is_freeze:\n",
        "          for param in self.bert.parameters():\n",
        "            param.requires_grad = False\n",
        "        self.fc = nn.Linear(768, 10)\n",
        "    def forward(self, input_ids, attention_mask): \n",
        "        return self.fc(self.bert(input_ids=input_ids, attention_mask=attention_mask, return_dict=False)[1])\n",
        "\n",
        "def report_model(model,dataloader,name=''): #confusion matrix , ... \n",
        "    y_true = []\n",
        "    y_pred = []\n",
        "    for i, (inputs, labels) in enumerate(dataloader):\n",
        "        inputs = inputs.to(device)\n",
        "        labels = labels.to(device)\n",
        "        outputs = model(input_ids=inputs['input_ids'].squeeze(1).to(device), attention_mask=inputs['attention_mask'].to(device))\n",
        "        y_true.extend(labels.tolist())\n",
        "        y_pred.extend(outputs.argmax(1).tolist())\n",
        "    print(f'~~~~~~~~~~~~ {name} ~~~~~~~~~~~~ \\n')\n",
        "    print(classification_report(y_true, y_pred, target_names=poets))\n",
        "    print(f'confusion matrix : \\n {confusion_matrix(y_true, y_pred)}')\n",
        "    print(f'f1_score : {f1_score(y_true, y_pred, average=\"macro\")}')\n",
        "\n",
        "### perplexity Compartion ##\n",
        "def perplexity(model1, model2, test_dataloader,criterion):\n",
        "    use_cuda = torch.cuda.is_available()\n",
        "    device = torch.device(\"cuda\" if use_cuda else \"cpu\")\n",
        "    if use_cuda:\n",
        "        model1 = model1.cuda()\n",
        "        model2 = model2.cuda()\n",
        "    total_loss_model1 = 0\n",
        "    total_loss_model2 = 0\n",
        "    with torch.no_grad():\n",
        "        for test_input, test_label in test_dataloader:\n",
        "            test_label = test_label.to(device)\n",
        "            mask = test_input['attention_mask'].to(device)\n",
        "            input_id = test_input['input_ids'].squeeze(1).to(device)\n",
        "            output1 = model1(input_id, mask)\n",
        "            output2 = model2(input_id, mask)\n",
        "            batch_loss1 = criterion(output1, test_label.long())\n",
        "            batch_loss2 = criterion(output2, test_label.long())\n",
        "            total_loss_model1 += batch_loss1.item()\n",
        "            total_loss_model2 += batch_loss2.item()\n",
        "    perplexity_model1 = np.exp(total_loss_model1 / len(test_dataloader))\n",
        "    perplexity_model2 = np.exp(total_loss_model2 / len(test_dataloader))\n",
        "    return perplexity_model1, perplexity_model2\n"
      ]
    },
    {
      "cell_type": "code",
      "execution_count": 4,
      "id": "rKtJGBjlN-z0",
      "metadata": {
        "colab": {
          "base_uri": "https://localhost:8080/",
          "height": 424
        },
        "id": "rKtJGBjlN-z0",
        "outputId": "a7f967aa-b892-4976-ddda-c1d42a31d531"
      },
      "outputs": [
        {
          "data": {
            "text/html": [
              "<div>\n",
              "<style scoped>\n",
              "    .dataframe tbody tr th:only-of-type {\n",
              "        vertical-align: middle;\n",
              "    }\n",
              "\n",
              "    .dataframe tbody tr th {\n",
              "        vertical-align: top;\n",
              "    }\n",
              "\n",
              "    .dataframe thead th {\n",
              "        text-align: right;\n",
              "    }\n",
              "</style>\n",
              "<table border=\"1\" class=\"dataframe\">\n",
              "  <thead>\n",
              "    <tr style=\"text-align: right;\">\n",
              "      <th></th>\n",
              "      <th>beyt</th>\n",
              "      <th>poet</th>\n",
              "      <th>poet_encoded</th>\n",
              "    </tr>\n",
              "  </thead>\n",
              "  <tbody>\n",
              "    <tr>\n",
              "      <th>0</th>\n",
              "      <td>در راه تو نیست عاشقان را [SEP] جز داعیه تو ره ...</td>\n",
              "      <td>sanaee_norm</td>\n",
              "      <td>7</td>\n",
              "    </tr>\n",
              "    <tr>\n",
              "      <th>1</th>\n",
              "      <td>چو روی او نگری فر خجسته گردد فال [SEP] اگر بهم...</td>\n",
              "      <td>onsori_norm</td>\n",
              "      <td>4</td>\n",
              "    </tr>\n",
              "    <tr>\n",
              "      <th>2</th>\n",
              "      <td>قرآن رهاننده ز دوزخ چو بهشتست [SEP] زیرا که بی...</td>\n",
              "      <td>seyf_norm</td>\n",
              "      <td>8</td>\n",
              "    </tr>\n",
              "    <tr>\n",
              "      <th>3</th>\n",
              "      <td>ور نه بس فخری نباشد مر سها را از فلک [SEP] چون...</td>\n",
              "      <td>sanaee_norm</td>\n",
              "      <td>7</td>\n",
              "    </tr>\n",
              "    <tr>\n",
              "      <th>4</th>\n",
              "      <td>که آمد بنزدیک او گلگله [SEP] ابا لشکری چون هژب...</td>\n",
              "      <td>ferdousi_norm</td>\n",
              "      <td>1</td>\n",
              "    </tr>\n",
              "    <tr>\n",
              "      <th>...</th>\n",
              "      <td>...</td>\n",
              "      <td>...</td>\n",
              "      <td>...</td>\n",
              "    </tr>\n",
              "    <tr>\n",
              "      <th>149276</th>\n",
              "      <td>ور بمانی نه کم وقار شوی [SEP] چه ضرورت به ترک ...</td>\n",
              "      <td>ouhadi_norm</td>\n",
              "      <td>5</td>\n",
              "    </tr>\n",
              "    <tr>\n",
              "      <th>149277</th>\n",
              "      <td>کرده ای پنهان محیط بیکران [SEP] قطره ای زان در...</td>\n",
              "      <td>feyz_norm</td>\n",
              "      <td>2</td>\n",
              "    </tr>\n",
              "    <tr>\n",
              "      <th>149278</th>\n",
              "      <td>نهادند بر گردنش پالهنگ [SEP] دو دست از پس پشت ...</td>\n",
              "      <td>ferdousi_norm</td>\n",
              "      <td>1</td>\n",
              "    </tr>\n",
              "    <tr>\n",
              "      <th>149279</th>\n",
              "      <td>گولی تو از قیاس که گر بر کشد کسی [SEP] یک کوزه...</td>\n",
              "      <td>onsori_norm</td>\n",
              "      <td>4</td>\n",
              "    </tr>\n",
              "    <tr>\n",
              "      <th>149280</th>\n",
              "      <td>هر کس نشان نیافت از این راه بر کران [SEP] آن م...</td>\n",
              "      <td>sanaee_norm</td>\n",
              "      <td>7</td>\n",
              "    </tr>\n",
              "  </tbody>\n",
              "</table>\n",
              "<p>149281 rows × 3 columns</p>\n",
              "</div>"
            ],
            "text/plain": [
              "                                                     beyt           poet  \\\n",
              "0       در راه تو نیست عاشقان را [SEP] جز داعیه تو ره ...    sanaee_norm   \n",
              "1       چو روی او نگری فر خجسته گردد فال [SEP] اگر بهم...    onsori_norm   \n",
              "2       قرآن رهاننده ز دوزخ چو بهشتست [SEP] زیرا که بی...      seyf_norm   \n",
              "3       ور نه بس فخری نباشد مر سها را از فلک [SEP] چون...    sanaee_norm   \n",
              "4       که آمد بنزدیک او گلگله [SEP] ابا لشکری چون هژب...  ferdousi_norm   \n",
              "...                                                   ...            ...   \n",
              "149276  ور بمانی نه کم وقار شوی [SEP] چه ضرورت به ترک ...    ouhadi_norm   \n",
              "149277  کرده ای پنهان محیط بیکران [SEP] قطره ای زان در...      feyz_norm   \n",
              "149278  نهادند بر گردنش پالهنگ [SEP] دو دست از پس پشت ...  ferdousi_norm   \n",
              "149279  گولی تو از قیاس که گر بر کشد کسی [SEP] یک کوزه...    onsori_norm   \n",
              "149280  هر کس نشان نیافت از این راه بر کران [SEP] آن م...    sanaee_norm   \n",
              "\n",
              "        poet_encoded  \n",
              "0                  7  \n",
              "1                  4  \n",
              "2                  8  \n",
              "3                  7  \n",
              "4                  1  \n",
              "...              ...  \n",
              "149276             5  \n",
              "149277             2  \n",
              "149278             1  \n",
              "149279             4  \n",
              "149280             7  \n",
              "\n",
              "[149281 rows x 3 columns]"
            ]
          },
          "execution_count": 4,
          "metadata": {},
          "output_type": "execute_result"
        }
      ],
      "source": [
        "# load randomly 10 poems data ###\n",
        "data = generate_dataframe('/content/Persian_poems_corpus/normalized')\n",
        "data"
      ]
    },
    {
      "cell_type": "code",
      "execution_count": 5,
      "id": "ihz3a92PnTwv",
      "metadata": {
        "colab": {
          "base_uri": "https://localhost:8080/",
          "height": 49,
          "referenced_widgets": [
            "51e8eb0202cd4d2da3b1e6263f41453a",
            "42a1bf2e4e0e492793e661cf9e3f2802",
            "59a4dc8c6aac467db4758cb01a3ded9a",
            "80071c16c4ac4b35a05723ab4c1a8dd5",
            "375c0e26c0734395b0d9c0c4c2518854",
            "bb19a420ab0e4f7e94b8f381e556ddca",
            "0c840f0df48447e7a901234bf5987764",
            "430528be138f446285c98509b8bfc76e",
            "5dae5569b5b440248709e1c08fa7debd",
            "f59c041c42bf4f839a0af778d5c7be21",
            "e77f0d0816be4e9bb169ed202c2887c7"
          ]
        },
        "id": "ihz3a92PnTwv",
        "outputId": "937dc24e-84ad-4101-cbb2-ab6743f5bdc6"
      },
      "outputs": [
        {
          "data": {
            "application/json": {
              "ascii": false,
              "bar_format": null,
              "colour": null,
              "elapsed": 0.018016338348388672,
              "initial": 0,
              "n": 0,
              "ncols": null,
              "nrows": null,
              "postfix": null,
              "prefix": "Downloading (…)solve/main/vocab.txt",
              "rate": null,
              "total": 1198122,
              "unit": "B",
              "unit_divisor": 1000,
              "unit_scale": true
            },
            "application/vnd.jupyter.widget-view+json": {
              "model_id": "a86868d427ab414980d19b76af1b6f32",
              "version_major": 2,
              "version_minor": 0
            },
            "text/plain": [
              "Downloading (…)solve/main/vocab.txt:   0%|          | 0.00/1.20M [00:00<?, ?B/s]"
            ]
          },
          "metadata": {},
          "output_type": "display_data"
        },
        {
          "name": "stderr",
          "output_type": "stream",
          "text": [
            "e:\\Python310\\lib\\site-packages\\huggingface_hub\\file_download.py:129: UserWarning: `huggingface_hub` cache-system uses symlinks by default to efficiently store duplicated files but your machine does not support them in C:\\Users\\zolghadr\\.cache\\huggingface\\hub. Caching files will still work but in a degraded version that might require more space on your disk. This warning can be disabled by setting the `HF_HUB_DISABLE_SYMLINKS_WARNING` environment variable. For more details, see https://huggingface.co/docs/huggingface_hub/how-to-cache#limitations.\n",
            "To support symlinks on Windows, you either need to activate Developer Mode or to run Python as an administrator. In order to see activate developer mode, see this article: https://docs.microsoft.com/en-us/windows/apps/get-started/enable-your-device-for-development\n",
            "  warnings.warn(message)\n"
          ]
        }
      ],
      "source": [
        "tokenizer = BertTokenizer.from_pretrained(\"HooshvareLab/bert-fa-base-uncased\")"
      ]
    },
    {
      "cell_type": "code",
      "execution_count": 6,
      "id": "62823070",
      "metadata": {
        "id": "62823070"
      },
      "outputs": [],
      "source": [
        "df_train, df_val, df_test = np.split(data.sample(frac=1), [int(.8*len(data)), int(.9*len(data))])\n",
        "### balance df_train . number of poems from each poet should be equal ### \n",
        "df_train = df_train.groupby('poet_encoded').apply(lambda x: x.sample(df_train['poet_encoded'].value_counts().max(), replace=True)).reset_index(drop=True)\n",
        "\n",
        "## create torch dataloader and dataset ##\n",
        "train_dataset, val_dataset, test_dataset = PersianPoemsDataset(df_train), PersianPoemsDataset(df_val), PersianPoemsDataset(df_test)\n",
        "train_dataloader = torch.utils.data.DataLoader(train_dataset, batch_size=32, shuffle=True)\n",
        "val_dataloader = torch.utils.data.DataLoader(val_dataset, batch_size=32)\n",
        "test_dataloader = torch.utils.data.DataLoader(test_dataset, batch_size=32)"
      ]
    },
    {
      "cell_type": "code",
      "execution_count": 7,
      "id": "4e3aadb8",
      "metadata": {
        "colab": {
          "base_uri": "https://localhost:8080/"
        },
        "id": "4e3aadb8",
        "outputId": "4205f699-c5f9-4e30-99fc-2ba9509cfddf"
      },
      "outputs": [
        {
          "data": {
            "text/plain": [
              "{'sanaee_norm': 7,\n",
              " 'onsori_norm': 4,\n",
              " 'seyf_norm': 8,\n",
              " 'ferdousi_norm': 1,\n",
              " 'feyz_norm': 2,\n",
              " 'eraghi_norm': 0,\n",
              " 'ouhadi_norm': 5,\n",
              " 'kamal_norm': 3,\n",
              " 'vahshi_norm': 9,\n",
              " 'roodaki_norm': 6}"
            ]
          },
          "execution_count": 7,
          "metadata": {},
          "output_type": "execute_result"
        }
      ],
      "source": [
        "# find unique poets in the dataset . i select poets randomly\n",
        "poets = data.poet.unique()\n",
        "poet_encoded = [data[data.poet == poet].poet_encoded.values[0] for poet in poets]\n",
        "poet_dict = dict(zip(poets, poet_encoded))\n",
        "poet_dict"
      ]
    },
    {
      "cell_type": "code",
      "execution_count": 8,
      "id": "24b4996b",
      "metadata": {
        "id": "24b4996b"
      },
      "outputs": [],
      "source": [
        "def train_and_evaluate(model, train_dataloader, val_dataloader, test_dataloader, learning_rate, epochs, criterion, optimizer):\n",
        "\n",
        "    use_cuda = torch.cuda.is_available()\n",
        "    device = torch.device(\"cuda\" if use_cuda else \"cpu\")\n",
        "    model = model.to(device)\n",
        "    criterion = criterion.to(device)\n",
        "    total_loss_train_array = []\n",
        "    total_loss_val_array = []\n",
        "    total_loss_test_array = []\n",
        "    for epoch_num in range(epochs):\n",
        "\n",
        "            total_acc_train = 0\n",
        "            total_loss_train = 0\n",
        "            total_acc_val = 0\n",
        "            total_loss_val = 0\n",
        "            total_loss_test = 0\n",
        "            total_acc_test = 0\n",
        "\n",
        "            for train_input, train_label in tqdm(train_dataloader):\n",
        "                model.train()\n",
        "                train_label = train_label.to(device)\n",
        "                mask = train_input['attention_mask'].to(device)\n",
        "                input_id = train_input['input_ids'].squeeze(1).to(device)\n",
        "\n",
        "                output = model(input_id, mask)\n",
        "                \n",
        "                batch_loss = criterion(output, train_label.long())\n",
        "                total_loss_train += batch_loss.item()\n",
        "                \n",
        "                acc = (output.argmax(dim=1) == train_label).sum().item()\n",
        "                total_acc_train += acc\n",
        "\n",
        "                model.zero_grad()\n",
        "                batch_loss.backward()\n",
        "                optimizer.step()\n",
        "\n",
        "            ### evalute ### \n",
        "            with torch.no_grad():\n",
        "                for val_input, val_label in val_dataloader:\n",
        "                    model.eval()\n",
        "                    val_label = val_label.to(device)\n",
        "                    mask = val_input['attention_mask'].to(device)\n",
        "                    input_id = val_input['input_ids'].squeeze(1).to(device)\n",
        "\n",
        "                    output = model(input_id, mask)\n",
        "\n",
        "                    batch_loss = criterion(output, val_label.long())\n",
        "                    total_loss_val += batch_loss.item()\n",
        "                    \n",
        "                    acc = (output.argmax(dim=1) == val_label).sum().item()\n",
        "                    total_acc_val += acc\n",
        "                for test_input, test_label in test_dataloader:\n",
        "                    test_label = test_label.to(device)\n",
        "                    mask = test_input['attention_mask'].to(device)\n",
        "                    input_id = test_input['input_ids'].squeeze(1).to(device)\n",
        "\n",
        "                    output = model(input_id, mask)\n",
        "\n",
        "                    batch_loss = criterion(output, test_label.long())\n",
        "                    total_loss_test += batch_loss.item()\n",
        "                    \n",
        "                    acc = (output.argmax(dim=1) == test_label).sum().item()\n",
        "                    total_acc_test += acc\n",
        "                \n",
        "            \n",
        "            print(f\"Epoch: {epoch_num+1}/{epochs}\")\n",
        "            print(f\"Train Loss: {total_loss_train/len(train_dataloader):.4f} | Train Acc: {total_acc_train/len(train_dataset):.4f}\")\n",
        "            print(f\"Val Loss: {total_loss_val/len(val_dataloader):.4f} | Val Acc: {total_acc_val/len(val_dataset):.4f}\")\n",
        "            print(f\"Test Loss: {total_loss_test/len(test_dataloader):.4f} | Test Acc: {total_acc_test/len(test_dataset):.4f}\")\n",
        "            print('--------------------------------------')\n",
        "            total_loss_train_array.append(total_loss_train/len(train_dataloader))\n",
        "            total_loss_val_array.append(total_loss_val/len(val_dataloader))\n",
        "            total_loss_test_array.append(total_loss_test/len(test_dataloader))\n",
        "\n",
        "    ### plot result ###\n",
        "    plt.title('Loss')\n",
        "    plt.plot(total_loss_train_array, label='train')\n",
        "    plt.plot(total_loss_val_array, label='validation')\n",
        "    plt.plot(total_loss_test_array, label='test')\n",
        "    plt.legend()\n",
        "    plt.show() \n",
        "    return model,total_loss_train_array,total_loss_test_array,total_loss_val_array\n",
        "\n"
      ]
    },
    {
      "cell_type": "code",
      "execution_count": 9,
      "id": "ed966815",
      "metadata": {
        "colab": {
          "base_uri": "https://localhost:8080/",
          "height": 816
        },
        "id": "ed966815",
        "outputId": "b4ab2389-37e3-4ab0-f123-09e778047478"
      },
      "outputs": [
        {
          "name": "stderr",
          "output_type": "stream",
          "text": [
            "100%|██████████| 12390/12390 [04:20<00:00, 47.62it/s]\n"
          ]
        },
        {
          "name": "stdout",
          "output_type": "stream",
          "text": [
            "Epoch: 1/5\n",
            "Train Loss: 2.0132 | Train Acc: 0.2790\n",
            "Val Loss: 1.7538 | Val Acc: 0.4021\n",
            "Test Loss: 1.7558 | Test Acc: 0.4032\n",
            "--------------------------------------\n"
          ]
        },
        {
          "name": "stderr",
          "output_type": "stream",
          "text": [
            "100%|██████████| 12390/12390 [04:20<00:00, 47.50it/s]\n"
          ]
        },
        {
          "name": "stdout",
          "output_type": "stream",
          "text": [
            "Epoch: 2/5\n",
            "Train Loss: 1.9268 | Train Acc: 0.3145\n",
            "Val Loss: 1.6387 | Val Acc: 0.4463\n",
            "Test Loss: 1.6403 | Test Acc: 0.4438\n",
            "--------------------------------------\n"
          ]
        },
        {
          "name": "stderr",
          "output_type": "stream",
          "text": [
            "100%|██████████| 12390/12390 [04:15<00:00, 48.41it/s]\n"
          ]
        },
        {
          "name": "stdout",
          "output_type": "stream",
          "text": [
            "Epoch: 3/5\n",
            "Train Loss: 1.9013 | Train Acc: 0.3253\n",
            "Val Loss: 1.6407 | Val Acc: 0.4475\n",
            "Test Loss: 1.6425 | Test Acc: 0.4473\n",
            "--------------------------------------\n"
          ]
        },
        {
          "name": "stderr",
          "output_type": "stream",
          "text": [
            "100%|██████████| 12390/12390 [04:18<00:00, 47.88it/s]\n"
          ]
        },
        {
          "name": "stdout",
          "output_type": "stream",
          "text": [
            "Epoch: 4/5\n",
            "Train Loss: 1.8864 | Train Acc: 0.3316\n",
            "Val Loss: 1.6468 | Val Acc: 0.4401\n",
            "Test Loss: 1.6474 | Test Acc: 0.4412\n",
            "--------------------------------------\n"
          ]
        },
        {
          "name": "stderr",
          "output_type": "stream",
          "text": [
            "100%|██████████| 12390/12390 [04:18<00:00, 47.92it/s]\n"
          ]
        },
        {
          "name": "stdout",
          "output_type": "stream",
          "text": [
            "Epoch: 5/5\n",
            "Train Loss: 1.8757 | Train Acc: 0.3355\n",
            "Val Loss: 1.6758 | Val Acc: 0.4273\n",
            "Test Loss: 1.6755 | Test Acc: 0.4265\n",
            "--------------------------------------\n"
          ]
        },
        {
          "data": {
            "image/png": "[encoded data removed]",
            "text/plain": [
              "<Figure size 432x288 with 1 Axes>"
            ]
          },
          "metadata": {
            "needs_background": "light"
          },
          "output_type": "display_data"
        }
      ],
      "source": [
        "#### Freeze PRETRAINED WITH ADAM ###\n",
        "model_freeze_ADAM = PoemClassifier(is_freeze = True)\n",
        "EPOCHS = 5\n",
        "LR = 2e-4\n",
        "\n",
        "\n",
        "criterion = nn.CrossEntropyLoss()\n",
        "optimizer = Adam(model_freeze_ADAM.parameters(), lr= LR)\n",
        "              \n",
        "model_freeze_ADAM, total_loss_train_array_freeze_ADAM,total_loss_test_array_freeze_ADAM,total_loss_val_array_freeze_ADAM = train_and_evaluate(model_freeze_ADAM, train_dataloader, val_dataloader, test_dataloader, LR, EPOCHS, criterion, optimizer)\n",
        "#save model and result\n",
        "torch.save(model_freeze_ADAM.state_dict(), 'model_freeze_ADAM.pt')\n",
        "np.save('total_loss_train_array_freeze_ADAM.npy', total_loss_train_array_freeze_ADAM)\n",
        "np.save('total_loss_test_array_freeze_ADAM.npy', total_loss_test_array_freeze_ADAM)\n",
        "np.save('total_loss_val_array_freeze_ADAM.npy', total_loss_val_array_freeze_ADAM)\n"
      ]
    },
    {
      "cell_type": "code",
      "execution_count": 10,
      "id": "lNnmX9y2-ZD5",
      "metadata": {
        "colab": {
          "base_uri": "https://localhost:8080/"
        },
        "id": "lNnmX9y2-ZD5",
        "outputId": "99454b79-a16a-4f95-9598-b738d1cbce25"
      },
      "outputs": [
        {
          "name": "stdout",
          "output_type": "stream",
          "text": [
            "~~~~~~~~~~~~ Freeze with Adam ~~~~~~~~~~~~ \n",
            "\n",
            "               precision    recall  f1-score   support\n",
            "\n",
            "  sanaee_norm       0.19      0.20      0.20       587\n",
            "  onsori_norm       0.88      0.71      0.79      4959\n",
            "    seyf_norm       0.32      0.39      0.35       992\n",
            "ferdousi_norm       0.40      0.21      0.28      1516\n",
            "    feyz_norm       0.13      0.54      0.21       376\n",
            "  eraghi_norm       0.25      0.33      0.28      1429\n",
            "  ouhadi_norm       0.03      0.33      0.05       100\n",
            "   kamal_norm       0.51      0.23      0.32      2678\n",
            "  vahshi_norm       0.31      0.33      0.32      1264\n",
            " roodaki_norm       0.27      0.28      0.27      1028\n",
            "\n",
            "     accuracy                           0.43     14929\n",
            "    macro avg       0.33      0.36      0.31     14929\n",
            " weighted avg       0.53      0.43      0.46     14929\n",
            "\n",
            "confusion matrix : \n",
            " [[ 120   16   96   19   32  130   29   42   50   53]\n",
            " [  45 3507   58   71  383  223  378   89   54  151]\n",
            " [  74   11  391   55   72  122   54   64   93   56]\n",
            " [  53   60  109  325  203  221  109   95  246   95]\n",
            " [   4   32   14   13  203   17   35   19   29   10]\n",
            " [  91   67  125   72  100  465  116  137  132  124]\n",
            " [   3   17    6    8    9    6   33    6    7    5]\n",
            " [ 110  151  210  108  382  354  298  627  240  198]\n",
            " [  69   38  130   93  123  180   67   77  412   75]\n",
            " [  60   67   87   53   94  171   82   71   59  284]]\n",
            "f1_score : 0.30637869426920894\n"
          ]
        }
      ],
      "source": [
        "## confusion matrix , ... ##\n",
        "report_model(model_freeze_ADAM,test_dataloader, 'Freeze with Adam')"
      ]
    },
    {
      "cell_type": "code",
      "execution_count": 11,
      "id": "lG-QMC-ERBrH",
      "metadata": {
        "colab": {
          "base_uri": "https://localhost:8080/",
          "height": 816
        },
        "id": "lG-QMC-ERBrH",
        "outputId": "f84bf23d-17c4-4a91-85fe-5ce33cad17f3"
      },
      "outputs": [
        {
          "name": "stderr",
          "output_type": "stream",
          "text": [
            "100%|██████████| 12390/12390 [04:40<00:00, 44.15it/s]\n"
          ]
        },
        {
          "name": "stdout",
          "output_type": "stream",
          "text": [
            "Epoch: 1/5\n",
            "Train Loss: 2.2616 | Train Acc: 0.1673\n",
            "Val Loss: 2.1431 | Val Acc: 0.3260\n",
            "Test Loss: 2.1438 | Test Acc: 0.3241\n",
            "--------------------------------------\n"
          ]
        },
        {
          "name": "stderr",
          "output_type": "stream",
          "text": [
            "100%|██████████| 12390/12390 [04:57<00:00, 41.62it/s]\n"
          ]
        },
        {
          "name": "stdout",
          "output_type": "stream",
          "text": [
            "Epoch: 2/5\n",
            "Train Loss: 2.1931 | Train Acc: 0.2178\n",
            "Val Loss: 2.0650 | Val Acc: 0.3355\n",
            "Test Loss: 2.0665 | Test Acc: 0.3329\n",
            "--------------------------------------\n"
          ]
        },
        {
          "name": "stderr",
          "output_type": "stream",
          "text": [
            "100%|██████████| 12390/12390 [04:58<00:00, 41.56it/s]\n"
          ]
        },
        {
          "name": "stdout",
          "output_type": "stream",
          "text": [
            "Epoch: 3/5\n",
            "Train Loss: 2.1533 | Train Acc: 0.2339\n",
            "Val Loss: 2.0053 | Val Acc: 0.3508\n",
            "Test Loss: 2.0068 | Test Acc: 0.3435\n",
            "--------------------------------------\n"
          ]
        },
        {
          "name": "stderr",
          "output_type": "stream",
          "text": [
            "100%|██████████| 12390/12390 [04:26<00:00, 46.44it/s]\n"
          ]
        },
        {
          "name": "stdout",
          "output_type": "stream",
          "text": [
            "Epoch: 4/5\n",
            "Train Loss: 2.1264 | Train Acc: 0.2438\n",
            "Val Loss: 1.9724 | Val Acc: 0.3528\n",
            "Test Loss: 1.9737 | Test Acc: 0.3454\n",
            "--------------------------------------\n"
          ]
        },
        {
          "name": "stderr",
          "output_type": "stream",
          "text": [
            "100%|██████████| 12390/12390 [04:24<00:00, 46.88it/s]\n"
          ]
        },
        {
          "name": "stdout",
          "output_type": "stream",
          "text": [
            "Epoch: 5/5\n",
            "Train Loss: 2.1067 | Train Acc: 0.2506\n",
            "Val Loss: 1.9484 | Val Acc: 0.3589\n",
            "Test Loss: 1.9490 | Test Acc: 0.3515\n",
            "--------------------------------------\n"
          ]
        },
        {
          "data": {
            "image/png": "[encoded data removed]",
            "text/plain": [
              "<Figure size 432x288 with 1 Axes>"
            ]
          },
          "metadata": {
            "needs_background": "light"
          },
          "output_type": "display_data"
        }
      ],
      "source": [
        "#### Freeze PRETRAINED WITH SGD ###\n",
        "model_freeze_SGD = PoemClassifier(is_freeze = True)\n",
        "EPOCHS = 5\n",
        "LR = 2e-4\n",
        "criterion = nn.CrossEntropyLoss()\n",
        "optimizer = SGD(model_freeze_SGD.parameters(), lr= LR)\n",
        "model_freeze_SGD, total_loss_train_array_freeze_SGD,total_loss_test_array_freeze_SGD,total_loss_val_array_freeze_SGD = train_and_evaluate(model_freeze_SGD, train_dataloader, val_dataloader, test_dataloader, LR, EPOCHS, criterion, optimizer)\n",
        "# save model and result\n",
        "torch.save(model_freeze_SGD.state_dict(), 'model_freeze_SGD.pt')\n",
        "np.save('total_loss_train_array_freeze_SGD.npy', total_loss_train_array_freeze_SGD)\n",
        "np.save('total_loss_test_array_freeze_SGD.npy', total_loss_test_array_freeze_SGD)\n",
        "np.save('total_loss_val_array_freeze_SGD.npy', total_loss_val_array_freeze_SGD)\n"
      ]
    },
    {
      "cell_type": "code",
      "execution_count": 12,
      "id": "OH8NsxVMIBtd",
      "metadata": {
        "colab": {
          "base_uri": "https://localhost:8080/"
        },
        "id": "OH8NsxVMIBtd",
        "outputId": "cffaa142-4738-4d2c-d9a1-012c7241988c"
      },
      "outputs": [
        {
          "name": "stdout",
          "output_type": "stream",
          "text": [
            "~~~~~~~~~~~~ Freeze with SGD ~~~~~~~~~~~~ \n",
            "\n",
            "               precision    recall  f1-score   support\n",
            "\n",
            "  sanaee_norm       0.12      0.30      0.17       587\n",
            "  onsori_norm       0.72      0.71      0.72      4959\n",
            "    seyf_norm       0.23      0.30      0.26       992\n",
            "ferdousi_norm       0.28      0.11      0.16      1516\n",
            "    feyz_norm       0.08      0.37      0.12       376\n",
            "  eraghi_norm       0.19      0.17      0.18      1429\n",
            "  ouhadi_norm       0.03      0.17      0.04       100\n",
            "   kamal_norm       0.41      0.08      0.14      2678\n",
            "  vahshi_norm       0.22      0.21      0.22      1264\n",
            " roodaki_norm       0.17      0.17      0.17      1028\n",
            "\n",
            "     accuracy                           0.35     14929\n",
            "    macro avg       0.24      0.26      0.22     14929\n",
            " weighted avg       0.41      0.35      0.35     14929\n",
            "\n",
            "confusion matrix : \n",
            " [[ 175   48   94   17   51   69   18   18   43   54]\n",
            " [ 181 3538   97   93  374  238  154   45   82  157]\n",
            " [ 148   68  297   39  101   98   51   38   84   68]\n",
            " [ 181  209  138  174  226  157   69   56  207   99]\n",
            " [   8   91   16   16  140   26   20   12   31   16]\n",
            " [ 222  174  130   53  143  245   62   74  183  143]\n",
            " [  10   27   10    6   10    4   17    3    5    8]\n",
            " [ 240  433  254  115  538  230  165  218  251  234]\n",
            " [ 191  144  147   66  158  128   48   35  270   77]\n",
            " [ 128  188  117   38  124  102   52   34   72  173]]\n",
            "f1_score : 0.21779312134353074\n"
          ]
        }
      ],
      "source": [
        "## confusion matrix , ... ##\n",
        "report_model(model_freeze_SGD,test_dataloader,'Freeze with SGD')"
      ]
    },
    {
      "attachments": {},
      "cell_type": "markdown",
      "id": "32c1c1fe",
      "metadata": {},
      "source": [
        "AS WE EXCEPT ADAM OPTIMIZER IS BETTER ! (We test this before in HW2)"
      ]
    },
    {
      "cell_type": "code",
      "execution_count": 13,
      "id": "54b05540",
      "metadata": {
        "colab": {
          "base_uri": "https://localhost:8080/"
        },
        "id": "54b05540",
        "outputId": "2176097e-1e4f-444f-e74a-0f3c6d93098b"
      },
      "outputs": [
        {
          "name": "stderr",
          "output_type": "stream",
          "text": [
            "100%|██████████| 12390/12390 [04:16<00:00, 48.35it/s]\n"
          ]
        },
        {
          "name": "stdout",
          "output_type": "stream",
          "text": [
            "Epoch: 1/5\n",
            "Train Loss: 2.0136 | Train Acc: 0.2795\n",
            "Val Loss: 1.7177 | Val Acc: 0.4147\n",
            "Test Loss: 1.7197 | Test Acc: 0.4131\n",
            "--------------------------------------\n"
          ]
        },
        {
          "name": "stderr",
          "output_type": "stream",
          "text": [
            "100%|██████████| 12390/12390 [04:27<00:00, 46.40it/s]\n"
          ]
        },
        {
          "name": "stdout",
          "output_type": "stream",
          "text": [
            "Epoch: 2/5\n",
            "Train Loss: 1.9263 | Train Acc: 0.3166\n",
            "Val Loss: 1.7579 | Val Acc: 0.3961\n",
            "Test Loss: 1.7603 | Test Acc: 0.3959\n",
            "--------------------------------------\n"
          ]
        },
        {
          "name": "stderr",
          "output_type": "stream",
          "text": [
            "100%|██████████| 12390/12390 [04:15<00:00, 48.49it/s]\n"
          ]
        },
        {
          "name": "stdout",
          "output_type": "stream",
          "text": [
            "Epoch: 3/5\n",
            "Train Loss: 1.9008 | Train Acc: 0.3259\n",
            "Val Loss: 1.6865 | Val Acc: 0.4247\n",
            "Test Loss: 1.6856 | Test Acc: 0.4300\n",
            "--------------------------------------\n"
          ]
        },
        {
          "name": "stderr",
          "output_type": "stream",
          "text": [
            "100%|██████████| 12390/12390 [04:20<00:00, 47.58it/s]\n"
          ]
        },
        {
          "name": "stdout",
          "output_type": "stream",
          "text": [
            "Epoch: 4/5\n",
            "Train Loss: 1.8859 | Train Acc: 0.3308\n",
            "Val Loss: 1.6293 | Val Acc: 0.4465\n",
            "Test Loss: 1.6276 | Test Acc: 0.4498\n",
            "--------------------------------------\n"
          ]
        },
        {
          "name": "stderr",
          "output_type": "stream",
          "text": [
            "100%|██████████| 12390/12390 [04:22<00:00, 47.17it/s]\n"
          ]
        },
        {
          "name": "stdout",
          "output_type": "stream",
          "text": [
            "Epoch: 5/5\n",
            "Train Loss: 1.8776 | Train Acc: 0.3347\n",
            "Val Loss: 1.6526 | Val Acc: 0.4373\n",
            "Test Loss: 1.6539 | Test Acc: 0.4416\n",
            "--------------------------------------\n"
          ]
        },
        {
          "data": {
            "image/png": "[encoded data removed]",
            "text/plain": [
              "<Figure size 432x288 with 1 Axes>"
            ]
          },
          "metadata": {
            "needs_background": "light"
          },
          "output_type": "display_data"
        }
      ],
      "source": [
        "#### Fine_tune_ADAM PRETRAINED WITH ADAM ###\n",
        "model_unfreeze_ADAM = PoemClassifier(is_freeze = False)\n",
        "EPOCHS = 5\n",
        "LR = 2e-4\n",
        "criterion = nn.CrossEntropyLoss()\n",
        "optimizer = Adam(model_unfreeze_ADAM.parameters(), lr= LR)\n",
        "              \n",
        "model_unfreeze_ADAM, total_loss_train_array_unfreeze_ADAM,total_loss_test_array_unfreeze_ADAM,total_loss_val_array_unfreeze_ADAM = train_and_evaluate(model_unfreeze_ADAM, train_dataloader, val_dataloader, test_dataloader, LR, EPOCHS, criterion, optimizer)\n",
        "# save model and result\n",
        "torch.save(model_unfreeze_ADAM.state_dict(), 'model_unfreeze_ADAM.pt')\n",
        "np.save('total_loss_train_array_unfreeze_ADAM.npy', total_loss_train_array_unfreeze_ADAM)\n",
        "np.save('total_loss_test_array_unfreeze_ADAM.npy', total_loss_test_array_unfreeze_ADAM)\n",
        "np.save('total_loss_val_array_unfreeze_ADAM.npy', total_loss_val_array_unfreeze_ADAM)\n"
      ]
    },
    {
      "cell_type": "code",
      "execution_count": 14,
      "id": "_a0oR06cIXBe",
      "metadata": {
        "id": "_a0oR06cIXBe"
      },
      "outputs": [
        {
          "name": "stdout",
          "output_type": "stream",
          "text": [
            "~~~~~~~~~~~~ unFreeze with ADAM ~~~~~~~~~~~~ \n",
            "\n",
            "               precision    recall  f1-score   support\n",
            "\n",
            "  sanaee_norm       0.18      0.30      0.23       587\n",
            "  onsori_norm       0.85      0.77      0.81      4959\n",
            "    seyf_norm       0.33      0.38      0.35       992\n",
            "ferdousi_norm       0.31      0.43      0.36      1516\n",
            "    feyz_norm       0.14      0.46      0.22       376\n",
            "  eraghi_norm       0.29      0.23      0.25      1429\n",
            "  ouhadi_norm       0.03      0.28      0.06       100\n",
            "   kamal_norm       0.57      0.12      0.20      2678\n",
            "  vahshi_norm       0.31      0.32      0.32      1264\n",
            " roodaki_norm       0.27      0.28      0.27      1028\n",
            "\n",
            "     accuracy                           0.44     14929\n",
            "    macro avg       0.33      0.36      0.31     14929\n",
            " weighted avg       0.52      0.44      0.45     14929\n",
            "\n",
            "confusion matrix : \n",
            " [[ 179   26   78   65   24   64   22   22   51   56]\n",
            " [  72 3841   55  201  227  116  232   22   44  149]\n",
            " [ 112   22  372  146   61   68   43   26   88   54]\n",
            " [  91   79   69  655  139   99   83   38  185   78]\n",
            " [   6   53   10   40  173   14   33    9   27   11]\n",
            " [ 171   88  123  197   82  324  103   74  142  125]\n",
            " [   5   23    4   16    8    3   28    3    5    5]\n",
            " [ 180  244  215  361  343  239  256  333  271  236]\n",
            " [  96   51  119  256   91   95   53   28  401   74]\n",
            " [  89   96   87  147   69  104   59   29   61  287]]\n",
            "f1_score : 0.30689204102626044\n"
          ]
        }
      ],
      "source": [
        "## confusion matrix , ... ##\n",
        "report_model(model_unfreeze_ADAM,test_dataloader,'unFreeze with ADAM')"
      ]
    },
    {
      "cell_type": "code",
      "execution_count": 19,
      "id": "1f7375d5",
      "metadata": {
        "id": "1f7375d5"
      },
      "outputs": [
        {
          "name": "stdout",
          "output_type": "stream",
          "text": [
            "Before Fine-tuning: 5.3417\n",
            "After Fine-tuning: 5.2274\n"
          ]
        }
      ],
      "source": [
        "criterion = nn.CrossEntropyLoss()\n",
        "perplexity1, perplexity2 = perplexity(model_freeze_ADAM, model_unfreeze_ADAM, test_dataloader,criterion)\n",
        "print(f\"Before Fine-tuning: {perplexity1:>0.4f}\")  \n",
        "print(f\"After Fine-tuning: {perplexity2:>0.4f}\")  \n"
      ]
    }
  ],
  "metadata": {
    "accelerator": "GPU",
    "colab": {
      "provenance": []
    },
    "gpuClass": "standard",
    "kernelspec": {
      "display_name": "Python 3",
      "language": "python",
      "name": "python3"
    },
    "language_info": {
      "codemirror_mode": {
        "name": "ipython",
        "version": 3
      },
      "file_extension": ".py",
      "mimetype": "text/x-python",
      "name": "python",
      "nbconvert_exporter": "python",
      "pygments_lexer": "ipython3",
      "version": "3.10.0"
    },
    "vscode": {
      "interpreter": {
        "hash": "1107d7420774037d906e3b1820d0cea00414d1defe1cd1b60c0f218f30e20db8"
      }
    },
    "widgets": {
      "application/vnd.jupyter.widget-state+json": {
        "0c840f0df48447e7a901234bf5987764": {
          "model_module": "@jupyter-widgets/controls",
          "model_module_version": "1.5.0",
          "model_name": "DescriptionStyleModel",
          "state": {
            "_model_module": "@jupyter-widgets/controls",
            "_model_module_version": "1.5.0",
            "_model_name": "DescriptionStyleModel",
            "_view_count": null,
            "_view_module": "@jupyter-widgets/base",
            "_view_module_version": "1.2.0",
            "_view_name": "StyleView",
            "description_width": ""
          }
        },
        "375c0e26c0734395b0d9c0c4c2518854": {
          "model_module": "@jupyter-widgets/base",
          "model_module_version": "1.2.0",
          "model_name": "LayoutModel",
          "state": {
            "_model_module": "@jupyter-widgets/base",
            "_model_module_version": "1.2.0",
            "_model_name": "LayoutModel",
            "_view_count": null,
            "_view_module": "@jupyter-widgets/base",
            "_view_module_version": "1.2.0",
            "_view_name": "LayoutView",
            "align_content": null,
            "align_items": null,
            "align_self": null,
            "border": null,
            "bottom": null,
            "display": null,
            "flex": null,
            "flex_flow": null,
            "grid_area": null,
            "grid_auto_columns": null,
            "grid_auto_flow": null,
            "grid_auto_rows": null,
            "grid_column": null,
            "grid_gap": null,
            "grid_row": null,
            "grid_template_areas": null,
            "grid_template_columns": null,
            "grid_template_rows": null,
            "height": null,
            "justify_content": null,
            "justify_items": null,
            "left": null,
            "margin": null,
            "max_height": null,
            "max_width": null,
            "min_height": null,
            "min_width": null,
            "object_fit": null,
            "object_position": null,
            "order": null,
            "overflow": null,
            "overflow_x": null,
            "overflow_y": null,
            "padding": null,
            "right": null,
            "top": null,
            "visibility": null,
            "width": null
          }
        },
        "42a1bf2e4e0e492793e661cf9e3f2802": {
          "model_module": "@jupyter-widgets/controls",
          "model_module_version": "1.5.0",
          "model_name": "HTMLModel",
          "state": {
            "_dom_classes": [],
            "_model_module": "@jupyter-widgets/controls",
            "_model_module_version": "1.5.0",
            "_model_name": "HTMLModel",
            "_view_count": null,
            "_view_module": "@jupyter-widgets/controls",
            "_view_module_version": "1.5.0",
            "_view_name": "HTMLView",
            "description": "",
            "description_tooltip": null,
            "layout": "IPY_MODEL_bb19a420ab0e4f7e94b8f381e556ddca",
            "placeholder": "​",
            "style": "IPY_MODEL_0c840f0df48447e7a901234bf5987764",
            "value": "Downloading (…)solve/main/vocab.txt: 100%"
          }
        },
        "430528be138f446285c98509b8bfc76e": {
          "model_module": "@jupyter-widgets/base",
          "model_module_version": "1.2.0",
          "model_name": "LayoutModel",
          "state": {
            "_model_module": "@jupyter-widgets/base",
            "_model_module_version": "1.2.0",
            "_model_name": "LayoutModel",
            "_view_count": null,
            "_view_module": "@jupyter-widgets/base",
            "_view_module_version": "1.2.0",
            "_view_name": "LayoutView",
            "align_content": null,
            "align_items": null,
            "align_self": null,
            "border": null,
            "bottom": null,
            "display": null,
            "flex": null,
            "flex_flow": null,
            "grid_area": null,
            "grid_auto_columns": null,
            "grid_auto_flow": null,
            "grid_auto_rows": null,
            "grid_column": null,
            "grid_gap": null,
            "grid_row": null,
            "grid_template_areas": null,
            "grid_template_columns": null,
            "grid_template_rows": null,
            "height": null,
            "justify_content": null,
            "justify_items": null,
            "left": null,
            "margin": null,
            "max_height": null,
            "max_width": null,
            "min_height": null,
            "min_width": null,
            "object_fit": null,
            "object_position": null,
            "order": null,
            "overflow": null,
            "overflow_x": null,
            "overflow_y": null,
            "padding": null,
            "right": null,
            "top": null,
            "visibility": null,
            "width": null
          }
        },
        "51e8eb0202cd4d2da3b1e6263f41453a": {
          "model_module": "@jupyter-widgets/controls",
          "model_module_version": "1.5.0",
          "model_name": "HBoxModel",
          "state": {
            "_dom_classes": [],
            "_model_module": "@jupyter-widgets/controls",
            "_model_module_version": "1.5.0",
            "_model_name": "HBoxModel",
            "_view_count": null,
            "_view_module": "@jupyter-widgets/controls",
            "_view_module_version": "1.5.0",
            "_view_name": "HBoxView",
            "box_style": "",
            "children": [
              "IPY_MODEL_42a1bf2e4e0e492793e661cf9e3f2802",
              "IPY_MODEL_59a4dc8c6aac467db4758cb01a3ded9a",
              "IPY_MODEL_80071c16c4ac4b35a05723ab4c1a8dd5"
            ],
            "layout": "IPY_MODEL_375c0e26c0734395b0d9c0c4c2518854"
          }
        },
        "59a4dc8c6aac467db4758cb01a3ded9a": {
          "model_module": "@jupyter-widgets/controls",
          "model_module_version": "1.5.0",
          "model_name": "FloatProgressModel",
          "state": {
            "_dom_classes": [],
            "_model_module": "@jupyter-widgets/controls",
            "_model_module_version": "1.5.0",
            "_model_name": "FloatProgressModel",
            "_view_count": null,
            "_view_module": "@jupyter-widgets/controls",
            "_view_module_version": "1.5.0",
            "_view_name": "ProgressView",
            "bar_style": "success",
            "description": "",
            "description_tooltip": null,
            "layout": "IPY_MODEL_430528be138f446285c98509b8bfc76e",
            "max": 1198122,
            "min": 0,
            "orientation": "horizontal",
            "style": "IPY_MODEL_5dae5569b5b440248709e1c08fa7debd",
            "value": 1198122
          }
        },
        "5dae5569b5b440248709e1c08fa7debd": {
          "model_module": "@jupyter-widgets/controls",
          "model_module_version": "1.5.0",
          "model_name": "ProgressStyleModel",
          "state": {
            "_model_module": "@jupyter-widgets/controls",
            "_model_module_version": "1.5.0",
            "_model_name": "ProgressStyleModel",
            "_view_count": null,
            "_view_module": "@jupyter-widgets/base",
            "_view_module_version": "1.2.0",
            "_view_name": "StyleView",
            "bar_color": null,
            "description_width": ""
          }
        },
        "80071c16c4ac4b35a05723ab4c1a8dd5": {
          "model_module": "@jupyter-widgets/controls",
          "model_module_version": "1.5.0",
          "model_name": "HTMLModel",
          "state": {
            "_dom_classes": [],
            "_model_module": "@jupyter-widgets/controls",
            "_model_module_version": "1.5.0",
            "_model_name": "HTMLModel",
            "_view_count": null,
            "_view_module": "@jupyter-widgets/controls",
            "_view_module_version": "1.5.0",
            "_view_name": "HTMLView",
            "description": "",
            "description_tooltip": null,
            "layout": "IPY_MODEL_f59c041c42bf4f839a0af778d5c7be21",
            "placeholder": "​",
            "style": "IPY_MODEL_e77f0d0816be4e9bb169ed202c2887c7",
            "value": " 1.20M/1.20M [00:00&lt;00:00, 33.8MB/s]"
          }
        },
        "bb19a420ab0e4f7e94b8f381e556ddca": {
          "model_module": "@jupyter-widgets/base",
          "model_module_version": "1.2.0",
          "model_name": "LayoutModel",
          "state": {
            "_model_module": "@jupyter-widgets/base",
            "_model_module_version": "1.2.0",
            "_model_name": "LayoutModel",
            "_view_count": null,
            "_view_module": "@jupyter-widgets/base",
            "_view_module_version": "1.2.0",
            "_view_name": "LayoutView",
            "align_content": null,
            "align_items": null,
            "align_self": null,
            "border": null,
            "bottom": null,
            "display": null,
            "flex": null,
            "flex_flow": null,
            "grid_area": null,
            "grid_auto_columns": null,
            "grid_auto_flow": null,
            "grid_auto_rows": null,
            "grid_column": null,
            "grid_gap": null,
            "grid_row": null,
            "grid_template_areas": null,
            "grid_template_columns": null,
            "grid_template_rows": null,
            "height": null,
            "justify_content": null,
            "justify_items": null,
            "left": null,
            "margin": null,
            "max_height": null,
            "max_width": null,
            "min_height": null,
            "min_width": null,
            "object_fit": null,
            "object_position": null,
            "order": null,
            "overflow": null,
            "overflow_x": null,
            "overflow_y": null,
            "padding": null,
            "right": null,
            "top": null,
            "visibility": null,
            "width": null
          }
        },
        "e77f0d0816be4e9bb169ed202c2887c7": {
          "model_module": "@jupyter-widgets/controls",
          "model_module_version": "1.5.0",
          "model_name": "DescriptionStyleModel",
          "state": {
            "_model_module": "@jupyter-widgets/controls",
            "_model_module_version": "1.5.0",
            "_model_name": "DescriptionStyleModel",
            "_view_count": null,
            "_view_module": "@jupyter-widgets/base",
            "_view_module_version": "1.2.0",
            "_view_name": "StyleView",
            "description_width": ""
          }
        },
        "f59c041c42bf4f839a0af778d5c7be21": {
          "model_module": "@jupyter-widgets/base",
          "model_module_version": "1.2.0",
          "model_name": "LayoutModel",
          "state": {
            "_model_module": "@jupyter-widgets/base",
            "_model_module_version": "1.2.0",
            "_model_name": "LayoutModel",
            "_view_count": null,
            "_view_module": "@jupyter-widgets/base",
            "_view_module_version": "1.2.0",
            "_view_name": "LayoutView",
            "align_content": null,
            "align_items": null,
            "align_self": null,
            "border": null,
            "bottom": null,
            "display": null,
            "flex": null,
            "flex_flow": null,
            "grid_area": null,
            "grid_auto_columns": null,
            "grid_auto_flow": null,
            "grid_auto_rows": null,
            "grid_column": null,
            "grid_gap": null,
            "grid_row": null,
            "grid_template_areas": null,
            "grid_template_columns": null,
            "grid_template_rows": null,
            "height": null,
            "justify_content": null,
            "justify_items": null,
            "left": null,
            "margin": null,
            "max_height": null,
            "max_width": null,
            "min_height": null,
            "min_width": null,
            "object_fit": null,
            "object_position": null,
            "order": null,
            "overflow": null,
            "overflow_x": null,
            "overflow_y": null,
            "padding": null,
            "right": null,
            "top": null,
            "visibility": null,
            "width": null
          }
        }
      }
    }
  },
  "nbformat": 4,
  "nbformat_minor": 5
}
